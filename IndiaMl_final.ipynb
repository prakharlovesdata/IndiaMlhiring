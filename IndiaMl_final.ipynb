{
  "nbformat": 4,
  "nbformat_minor": 0,
  "metadata": {
    "colab": {
      "name": "IndiaMl_final",
      "version": "0.3.2",
      "provenance": []
    },
    "kernelspec": {
      "name": "python3",
      "display_name": "Python 3"
    },
    "accelerator": "GPU"
  },
  "cells": [
    {
      "cell_type": "code",
      "metadata": {
        "id": "66UqTLfUlFEi",
        "colab_type": "code",
        "colab": {}
      },
      "source": [
        "from google.colab import drive\n",
        "drive.mount('/content/drive')"
      ],
      "execution_count": 0,
      "outputs": []
    },
    {
      "cell_type": "code",
      "metadata": {
        "id": "VIjd12cJt96X",
        "colab_type": "code",
        "colab": {}
      },
      "source": [
        "import pandas as pd\n",
        "import numpy as np\n",
        "import matplotlib.pyplot as plt\n",
        "import seaborn as sln\n",
        "from sklearn.manifold import TSNE\n",
        "%matplotlib inline"
      ],
      "execution_count": 0,
      "outputs": []
    },
    {
      "cell_type": "code",
      "metadata": {
        "id": "JYJzxUxWuEVp",
        "colab_type": "code",
        "colab": {}
      },
      "source": [
        "train=pd.read_csv('/content/drive/My Drive/train.csv')"
      ],
      "execution_count": 0,
      "outputs": []
    },
    {
      "cell_type": "code",
      "metadata": {
        "id": "bz0E7tvquLeK",
        "colab_type": "code",
        "colab": {}
      },
      "source": [
        "dummy=pd.get_dummies(train['financial_institution'],drop_first=True)"
      ],
      "execution_count": 0,
      "outputs": []
    },
    {
      "cell_type": "code",
      "metadata": {
        "id": "CBxLeE4bag6c",
        "colab_type": "code",
        "outputId": "dd8d4345-aa79-4d22-9cf0-d6666236463c",
        "colab": {
          "base_uri": "https://localhost:8080/",
          "height": 241
        }
      },
      "source": [
        "train.head()"
      ],
      "execution_count": 0,
      "outputs": [
        {
          "output_type": "execute_result",
          "data": {
            "text/html": [
              "<div>\n",
              "<style scoped>\n",
              "    .dataframe tbody tr th:only-of-type {\n",
              "        vertical-align: middle;\n",
              "    }\n",
              "\n",
              "    .dataframe tbody tr th {\n",
              "        vertical-align: top;\n",
              "    }\n",
              "\n",
              "    .dataframe thead th {\n",
              "        text-align: right;\n",
              "    }\n",
              "</style>\n",
              "<table border=\"1\" class=\"dataframe\">\n",
              "  <thead>\n",
              "    <tr style=\"text-align: right;\">\n",
              "      <th></th>\n",
              "      <th>loan_id</th>\n",
              "      <th>source</th>\n",
              "      <th>financial_institution</th>\n",
              "      <th>interest_rate</th>\n",
              "      <th>unpaid_principal_bal</th>\n",
              "      <th>loan_term</th>\n",
              "      <th>origination_date</th>\n",
              "      <th>first_payment_date</th>\n",
              "      <th>loan_to_value</th>\n",
              "      <th>number_of_borrowers</th>\n",
              "      <th>debt_to_income_ratio</th>\n",
              "      <th>borrower_credit_score</th>\n",
              "      <th>loan_purpose</th>\n",
              "      <th>insurance_percent</th>\n",
              "      <th>co-borrower_credit_score</th>\n",
              "      <th>insurance_type</th>\n",
              "      <th>m1</th>\n",
              "      <th>m2</th>\n",
              "      <th>m3</th>\n",
              "      <th>m4</th>\n",
              "      <th>m5</th>\n",
              "      <th>m6</th>\n",
              "      <th>m7</th>\n",
              "      <th>m8</th>\n",
              "      <th>m9</th>\n",
              "      <th>m10</th>\n",
              "      <th>m11</th>\n",
              "      <th>m12</th>\n",
              "      <th>m13</th>\n",
              "    </tr>\n",
              "  </thead>\n",
              "  <tbody>\n",
              "    <tr>\n",
              "      <th>0</th>\n",
              "      <td>268055008619</td>\n",
              "      <td>Z</td>\n",
              "      <td>Turner, Baldwin and Rhodes</td>\n",
              "      <td>4.250</td>\n",
              "      <td>214000</td>\n",
              "      <td>360</td>\n",
              "      <td>2012-03-01</td>\n",
              "      <td>05/2012</td>\n",
              "      <td>95</td>\n",
              "      <td>1.0</td>\n",
              "      <td>22.0</td>\n",
              "      <td>694.0</td>\n",
              "      <td>C86</td>\n",
              "      <td>30.0</td>\n",
              "      <td>0.0</td>\n",
              "      <td>0.0</td>\n",
              "      <td>0</td>\n",
              "      <td>0</td>\n",
              "      <td>0</td>\n",
              "      <td>0</td>\n",
              "      <td>0</td>\n",
              "      <td>0</td>\n",
              "      <td>1</td>\n",
              "      <td>0</td>\n",
              "      <td>0</td>\n",
              "      <td>0</td>\n",
              "      <td>0</td>\n",
              "      <td>0</td>\n",
              "      <td>1</td>\n",
              "    </tr>\n",
              "    <tr>\n",
              "      <th>1</th>\n",
              "      <td>672831657627</td>\n",
              "      <td>Y</td>\n",
              "      <td>Swanson, Newton and Miller</td>\n",
              "      <td>4.875</td>\n",
              "      <td>144000</td>\n",
              "      <td>360</td>\n",
              "      <td>2012-01-01</td>\n",
              "      <td>03/2012</td>\n",
              "      <td>72</td>\n",
              "      <td>1.0</td>\n",
              "      <td>44.0</td>\n",
              "      <td>697.0</td>\n",
              "      <td>B12</td>\n",
              "      <td>0.0</td>\n",
              "      <td>0.0</td>\n",
              "      <td>0.0</td>\n",
              "      <td>0</td>\n",
              "      <td>0</td>\n",
              "      <td>0</td>\n",
              "      <td>0</td>\n",
              "      <td>0</td>\n",
              "      <td>0</td>\n",
              "      <td>0</td>\n",
              "      <td>0</td>\n",
              "      <td>0</td>\n",
              "      <td>0</td>\n",
              "      <td>1</td>\n",
              "      <td>0</td>\n",
              "      <td>1</td>\n",
              "    </tr>\n",
              "    <tr>\n",
              "      <th>2</th>\n",
              "      <td>742515242108</td>\n",
              "      <td>Z</td>\n",
              "      <td>Thornton-Davis</td>\n",
              "      <td>3.250</td>\n",
              "      <td>366000</td>\n",
              "      <td>180</td>\n",
              "      <td>2012-01-01</td>\n",
              "      <td>03/2012</td>\n",
              "      <td>49</td>\n",
              "      <td>1.0</td>\n",
              "      <td>33.0</td>\n",
              "      <td>780.0</td>\n",
              "      <td>B12</td>\n",
              "      <td>0.0</td>\n",
              "      <td>0.0</td>\n",
              "      <td>0.0</td>\n",
              "      <td>0</td>\n",
              "      <td>0</td>\n",
              "      <td>0</td>\n",
              "      <td>0</td>\n",
              "      <td>0</td>\n",
              "      <td>0</td>\n",
              "      <td>0</td>\n",
              "      <td>0</td>\n",
              "      <td>0</td>\n",
              "      <td>0</td>\n",
              "      <td>0</td>\n",
              "      <td>0</td>\n",
              "      <td>1</td>\n",
              "    </tr>\n",
              "    <tr>\n",
              "      <th>3</th>\n",
              "      <td>601385667462</td>\n",
              "      <td>X</td>\n",
              "      <td>OTHER</td>\n",
              "      <td>4.750</td>\n",
              "      <td>135000</td>\n",
              "      <td>360</td>\n",
              "      <td>2012-02-01</td>\n",
              "      <td>04/2012</td>\n",
              "      <td>46</td>\n",
              "      <td>2.0</td>\n",
              "      <td>44.0</td>\n",
              "      <td>633.0</td>\n",
              "      <td>B12</td>\n",
              "      <td>0.0</td>\n",
              "      <td>638.0</td>\n",
              "      <td>0.0</td>\n",
              "      <td>0</td>\n",
              "      <td>0</td>\n",
              "      <td>0</td>\n",
              "      <td>0</td>\n",
              "      <td>0</td>\n",
              "      <td>0</td>\n",
              "      <td>0</td>\n",
              "      <td>0</td>\n",
              "      <td>1</td>\n",
              "      <td>1</td>\n",
              "      <td>1</td>\n",
              "      <td>1</td>\n",
              "      <td>1</td>\n",
              "    </tr>\n",
              "    <tr>\n",
              "      <th>4</th>\n",
              "      <td>273870029961</td>\n",
              "      <td>X</td>\n",
              "      <td>OTHER</td>\n",
              "      <td>4.750</td>\n",
              "      <td>124000</td>\n",
              "      <td>360</td>\n",
              "      <td>2012-02-01</td>\n",
              "      <td>04/2012</td>\n",
              "      <td>80</td>\n",
              "      <td>1.0</td>\n",
              "      <td>43.0</td>\n",
              "      <td>681.0</td>\n",
              "      <td>C86</td>\n",
              "      <td>0.0</td>\n",
              "      <td>0.0</td>\n",
              "      <td>0.0</td>\n",
              "      <td>0</td>\n",
              "      <td>1</td>\n",
              "      <td>2</td>\n",
              "      <td>3</td>\n",
              "      <td>4</td>\n",
              "      <td>5</td>\n",
              "      <td>6</td>\n",
              "      <td>7</td>\n",
              "      <td>8</td>\n",
              "      <td>9</td>\n",
              "      <td>10</td>\n",
              "      <td>11</td>\n",
              "      <td>1</td>\n",
              "    </tr>\n",
              "  </tbody>\n",
              "</table>\n",
              "</div>"
            ],
            "text/plain": [
              "        loan_id source       financial_institution  ...  m11  m12  m13\n",
              "0  268055008619      Z  Turner, Baldwin and Rhodes  ...    0    0    1\n",
              "1  672831657627      Y  Swanson, Newton and Miller  ...    1    0    1\n",
              "2  742515242108      Z              Thornton-Davis  ...    0    0    1\n",
              "3  601385667462      X                       OTHER  ...    1    1    1\n",
              "4  273870029961      X                       OTHER  ...   10   11    1\n",
              "\n",
              "[5 rows x 29 columns]"
            ]
          },
          "metadata": {
            "tags": []
          },
          "execution_count": 52
        }
      ]
    },
    {
      "cell_type": "code",
      "metadata": {
        "id": "VP-SYUyXoCAl",
        "colab_type": "code",
        "colab": {}
      },
      "source": [
        "train_new=pd.read_csv('/content/drive/My Drive/new_features.csv')"
      ],
      "execution_count": 0,
      "outputs": []
    },
    {
      "cell_type": "code",
      "metadata": {
        "id": "ISU6e2CZPD3d",
        "colab_type": "code",
        "colab": {}
      },
      "source": [
        "tr=train_new.drop('4',axis=1)"
      ],
      "execution_count": 0,
      "outputs": []
    },
    {
      "cell_type": "code",
      "metadata": {
        "id": "F7-2h9Qeb4g2",
        "colab_type": "code",
        "colab": {}
      },
      "source": [
        "tr=tr.drop('6',axis=1)"
      ],
      "execution_count": 0,
      "outputs": []
    },
    {
      "cell_type": "code",
      "metadata": {
        "id": "me1IqQKVja7l",
        "colab_type": "code",
        "colab": {}
      },
      "source": [
        "tr=tr.drop('7',axis=1)"
      ],
      "execution_count": 0,
      "outputs": []
    },
    {
      "cell_type": "code",
      "metadata": {
        "id": "QDPfy57dKOgU",
        "colab_type": "code",
        "colab": {}
      },
      "source": [
        "tr_new=tr.drop('0',axis=1)"
      ],
      "execution_count": 0,
      "outputs": []
    },
    {
      "cell_type": "code",
      "metadata": {
        "id": "Z0jbQcBusTQz",
        "colab_type": "code",
        "colab": {}
      },
      "source": [
        "comb=pd.concat([tr_new,dummy],axis=1)"
      ],
      "execution_count": 0,
      "outputs": []
    },
    {
      "cell_type": "code",
      "metadata": {
        "id": "gxiIuwdjoO6K",
        "colab_type": "code",
        "colab": {}
      },
      "source": [
        "X = comb.values\n",
        "Y = train['m13'].values"
      ],
      "execution_count": 0,
      "outputs": []
    },
    {
      "cell_type": "code",
      "metadata": {
        "id": "VgBJQFPiICKS",
        "colab_type": "code",
        "colab": {}
      },
      "source": [
        "x, x_test, y, y_test = train_test_split(X,Y, test_size=0.3, random_state=42, stratify=Y)"
      ],
      "execution_count": 0,
      "outputs": []
    },
    {
      "cell_type": "code",
      "metadata": {
        "id": "Bj-paSahubxU",
        "colab_type": "code",
        "outputId": "9694180d-5ddd-458b-ad0f-bbb229eab019",
        "colab": {
          "base_uri": "https://localhost:8080/",
          "height": 34
        }
      },
      "source": [
        "from keras.models import Model,Sequential\n",
        "from keras.layers import Input, Dense,Dropout,BatchNormalization\n",
        "from keras import regularizers\n",
        "from keras import optimizers"
      ],
      "execution_count": 0,
      "outputs": [
        {
          "output_type": "stream",
          "text": [
            "Using TensorFlow backend.\n"
          ],
          "name": "stderr"
        }
      ]
    },
    {
      "cell_type": "code",
      "metadata": {
        "id": "3fP_4GsxufFu",
        "colab_type": "code",
        "outputId": "c59735ca-00ee-4209-e73e-ba0bb381d8c3",
        "colab": {
          "base_uri": "https://localhost:8080/",
          "height": 275
        }
      },
      "source": [
        "#sparse autoencoders\n",
        "\n",
        "\n",
        "x = Input(shape=(X.shape[1],))\n",
        "\n",
        "# Encoder\n",
        "h = Dense(250, activation='relu', activity_regularizer=regularizers.l1(10e-5))(x)\n",
        "h=Dropout(0.3)(h)\n",
        "\n",
        "h=Dense(200, activation='relu', activity_regularizer=regularizers.l1(10e-5))(h)\n",
        "\n",
        "h=BatchNormalization()(h)\n",
        "# Decoder\n",
        "r = Dense(X.shape[1], activation='tanh')(h)\n",
        "r=BatchNormalization()(r)\n",
        "\n",
        "autoencoder = Model(input=x, output=r)\n",
        "autoencoder.compile(optimizer='adam', loss='mse')"
      ],
      "execution_count": 0,
      "outputs": [
        {
          "output_type": "stream",
          "text": [
            "WARNING: Logging before flag parsing goes to stderr.\n",
            "W0822 20:53:46.974444 139676650620800 deprecation_wrapper.py:119] From /usr/local/lib/python3.6/dist-packages/keras/backend/tensorflow_backend.py:74: The name tf.get_default_graph is deprecated. Please use tf.compat.v1.get_default_graph instead.\n",
            "\n",
            "W0822 20:53:46.999435 139676650620800 deprecation_wrapper.py:119] From /usr/local/lib/python3.6/dist-packages/keras/backend/tensorflow_backend.py:517: The name tf.placeholder is deprecated. Please use tf.compat.v1.placeholder instead.\n",
            "\n",
            "W0822 20:53:47.005971 139676650620800 deprecation_wrapper.py:119] From /usr/local/lib/python3.6/dist-packages/keras/backend/tensorflow_backend.py:4138: The name tf.random_uniform is deprecated. Please use tf.random.uniform instead.\n",
            "\n",
            "W0822 20:53:47.029961 139676650620800 deprecation_wrapper.py:119] From /usr/local/lib/python3.6/dist-packages/keras/backend/tensorflow_backend.py:133: The name tf.placeholder_with_default is deprecated. Please use tf.compat.v1.placeholder_with_default instead.\n",
            "\n",
            "W0822 20:53:47.041865 139676650620800 deprecation.py:506] From /usr/local/lib/python3.6/dist-packages/keras/backend/tensorflow_backend.py:3445: calling dropout (from tensorflow.python.ops.nn_ops) with keep_prob is deprecated and will be removed in a future version.\n",
            "Instructions for updating:\n",
            "Please use `rate` instead of `keep_prob`. Rate should be set to `rate = 1 - keep_prob`.\n",
            "W0822 20:53:47.274672 139676650620800 deprecation_wrapper.py:119] From /usr/local/lib/python3.6/dist-packages/keras/optimizers.py:790: The name tf.train.Optimizer is deprecated. Please use tf.compat.v1.train.Optimizer instead.\n",
            "\n"
          ],
          "name": "stderr"
        }
      ]
    },
    {
      "cell_type": "code",
      "metadata": {
        "id": "OD_mnSqluj89",
        "colab_type": "code",
        "colab": {}
      },
      "source": [
        "autoencoder = Model(x,r)\n",
        "autoencoder.compile(optimizer=\"adam\", loss=\"mse\")"
      ],
      "execution_count": 0,
      "outputs": []
    },
    {
      "cell_type": "code",
      "metadata": {
        "id": "xbPjqMBIcTIY",
        "colab_type": "code",
        "outputId": "f18b19ca-823f-415b-feae-2cf124771644",
        "colab": {
          "base_uri": "https://localhost:8080/",
          "height": 163
        }
      },
      "source": [
        "x=x[y==0]"
      ],
      "execution_count": 0,
      "outputs": [
        {
          "output_type": "error",
          "ename": "NameError",
          "evalue": "ignored",
          "traceback": [
            "\u001b[0;31m---------------------------------------------------------------------------\u001b[0m",
            "\u001b[0;31mNameError\u001b[0m                                 Traceback (most recent call last)",
            "\u001b[0;32m<ipython-input-21-5c354202fbf3>\u001b[0m in \u001b[0;36m<module>\u001b[0;34m()\u001b[0m\n\u001b[0;32m----> 1\u001b[0;31m \u001b[0mx\u001b[0m\u001b[0;34m=\u001b[0m\u001b[0mx\u001b[0m\u001b[0;34m[\u001b[0m\u001b[0my\u001b[0m\u001b[0;34m==\u001b[0m\u001b[0;36m0\u001b[0m\u001b[0;34m]\u001b[0m\u001b[0;34m\u001b[0m\u001b[0;34m\u001b[0m\u001b[0m\n\u001b[0m",
            "\u001b[0;31mNameError\u001b[0m: name 'y' is not defined"
          ]
        }
      ]
    },
    {
      "cell_type": "code",
      "metadata": {
        "id": "ys5SH3pRcTDU",
        "colab_type": "code",
        "colab": {}
      },
      "source": [
        ""
      ],
      "execution_count": 0,
      "outputs": []
    },
    {
      "cell_type": "code",
      "metadata": {
        "id": "rz0e5snmumyp",
        "colab_type": "code",
        "colab": {}
      },
      "source": [
        "x_not, x_yes = X[Y == 0], X[Y == 1]"
      ],
      "execution_count": 0,
      "outputs": []
    },
    {
      "cell_type": "code",
      "metadata": {
        "id": "PeYustReuo72",
        "colab_type": "code",
        "outputId": "1e9fc41a-f5aa-4645-9baf-8a4c4fb95ee4",
        "colab": {
          "base_uri": "https://localhost:8080/",
          "height": 428
        }
      },
      "source": [
        "history=autoencoder.fit(x_not, x_not, \n",
        "        batch_size = 256, epochs = 10,\n",
        "                        validation_split=0.2\n",
        "               , shuffle = True)"
      ],
      "execution_count": 0,
      "outputs": [
        {
          "output_type": "stream",
          "text": [
            "W0822 20:54:00.682875 139676650620800 deprecation_wrapper.py:119] From /usr/local/lib/python3.6/dist-packages/keras/backend/tensorflow_backend.py:986: The name tf.assign_add is deprecated. Please use tf.compat.v1.assign_add instead.\n",
            "\n"
          ],
          "name": "stderr"
        },
        {
          "output_type": "stream",
          "text": [
            "Train on 92337 samples, validate on 23085 samples\n",
            "Epoch 1/10\n",
            "92337/92337 [==============================] - 5s 52us/step - loss: 0.3865 - val_loss: 0.3560\n",
            "Epoch 2/10\n",
            "92337/92337 [==============================] - 3s 37us/step - loss: 0.0457 - val_loss: 0.0443\n",
            "Epoch 3/10\n",
            "92337/92337 [==============================] - 3s 38us/step - loss: 0.0376 - val_loss: 0.0310\n",
            "Epoch 4/10\n",
            "92337/92337 [==============================] - 3s 37us/step - loss: 0.0341 - val_loss: 0.0433\n",
            "Epoch 5/10\n",
            "92337/92337 [==============================] - 3s 38us/step - loss: 0.0312 - val_loss: 0.0367\n",
            "Epoch 6/10\n",
            "92337/92337 [==============================] - 3s 37us/step - loss: 0.0283 - val_loss: 0.0670\n",
            "Epoch 7/10\n",
            "92337/92337 [==============================] - 3s 37us/step - loss: 0.0265 - val_loss: 0.0299\n",
            "Epoch 8/10\n",
            "92337/92337 [==============================] - 3s 37us/step - loss: 0.0252 - val_loss: 0.0415\n",
            "Epoch 9/10\n",
            "92337/92337 [==============================] - 3s 37us/step - loss: 0.0248 - val_loss: 0.0428\n",
            "Epoch 10/10\n",
            "92337/92337 [==============================] - 3s 37us/step - loss: 0.0292 - val_loss: 0.0359\n"
          ],
          "name": "stdout"
        }
      ]
    },
    {
      "cell_type": "code",
      "metadata": {
        "id": "Xk2adds9IrvU",
        "colab_type": "code",
        "outputId": "965c8826-517f-49ba-fbb7-73a6056f0e25",
        "colab": {
          "base_uri": "https://localhost:8080/",
          "height": 295
        }
      },
      "source": [
        "4plt.plot(history.history['loss'])\n",
        "plt.plot(history.history['val_loss'])\n",
        "plt.title('model loss')\n",
        "plt.ylabel('loss')\n",
        "plt.xlabel('epoch')\n",
        "plt.legend(['train', 'test'], loc='upper right');"
      ],
      "execution_count": 0,
      "outputs": [
        {
          "output_type": "display_data",
          "data": {
            "image/png": "[encoded data removed]",
            "text/plain": [
              "<Figure size 432x288 with 1 Axes>"
            ]
          },
          "metadata": {
            "tags": []
          }
        }
      ]
    },
    {
      "cell_type": "code",
      "metadata": {
        "id": "9ae3KeuVJhf9",
        "colab_type": "code",
        "outputId": "13b30359-3ee4-4ba6-f4ec-bcf526c084ed",
        "colab": {
          "base_uri": "https://localhost:8080/",
          "height": 297
        }
      },
      "source": [
        "predictions = autoencoder.predict(x_test)\n",
        "mse = np.mean(np.power(x_test - predictions, 2), axis=1)\n",
        "error_df = pd.DataFrame({'reconstruction_error': mse,\n",
        "                        'true_class': y_test})\n",
        "error_df.describe()\n"
      ],
      "execution_count": 0,
      "outputs": [
        {
          "output_type": "execute_result",
          "data": {
            "text/html": [
              "<div>\n",
              "<style scoped>\n",
              "    .dataframe tbody tr th:only-of-type {\n",
              "        vertical-align: middle;\n",
              "    }\n",
              "\n",
              "    .dataframe tbody tr th {\n",
              "        vertical-align: top;\n",
              "    }\n",
              "\n",
              "    .dataframe thead th {\n",
              "        text-align: right;\n",
              "    }\n",
              "</style>\n",
              "<table border=\"1\" class=\"dataframe\">\n",
              "  <thead>\n",
              "    <tr style=\"text-align: right;\">\n",
              "      <th></th>\n",
              "      <th>reconstruction_error</th>\n",
              "      <th>true_class</th>\n",
              "    </tr>\n",
              "  </thead>\n",
              "  <tbody>\n",
              "    <tr>\n",
              "      <th>count</th>\n",
              "      <td>34818.000000</td>\n",
              "      <td>34818.000000</td>\n",
              "    </tr>\n",
              "    <tr>\n",
              "      <th>mean</th>\n",
              "      <td>0.103854</td>\n",
              "      <td>0.005486</td>\n",
              "    </tr>\n",
              "    <tr>\n",
              "      <th>std</th>\n",
              "      <td>3.016259</td>\n",
              "      <td>0.073863</td>\n",
              "    </tr>\n",
              "    <tr>\n",
              "      <th>min</th>\n",
              "      <td>0.004931</td>\n",
              "      <td>0.000000</td>\n",
              "    </tr>\n",
              "    <tr>\n",
              "      <th>25%</th>\n",
              "      <td>0.011930</td>\n",
              "      <td>0.000000</td>\n",
              "    </tr>\n",
              "    <tr>\n",
              "      <th>50%</th>\n",
              "      <td>0.014846</td>\n",
              "      <td>0.000000</td>\n",
              "    </tr>\n",
              "    <tr>\n",
              "      <th>75%</th>\n",
              "      <td>0.019280</td>\n",
              "      <td>0.000000</td>\n",
              "    </tr>\n",
              "    <tr>\n",
              "      <th>max</th>\n",
              "      <td>291.786971</td>\n",
              "      <td>1.000000</td>\n",
              "    </tr>\n",
              "  </tbody>\n",
              "</table>\n",
              "</div>"
            ],
            "text/plain": [
              "       reconstruction_error    true_class\n",
              "count          34818.000000  34818.000000\n",
              "mean               0.103854      0.005486\n",
              "std                3.016259      0.073863\n",
              "min                0.004931      0.000000\n",
              "25%                0.011930      0.000000\n",
              "50%                0.014846      0.000000\n",
              "75%                0.019280      0.000000\n",
              "max              291.786971      1.000000"
            ]
          },
          "metadata": {
            "tags": []
          },
          "execution_count": 20
        }
      ]
    },
    {
      "cell_type": "markdown",
      "metadata": {
        "id": "c3JXpspsJ4B1",
        "colab_type": "text"
      },
      "source": [
        "Reconstruction with deliquency"
      ]
    },
    {
      "cell_type": "code",
      "metadata": {
        "id": "wuLoIkkrJ9Ru",
        "colab_type": "code",
        "outputId": "e47a0168-e6a3-414a-957c-d3a8b1e50445",
        "colab": {
          "base_uri": "https://localhost:8080/",
          "height": 595
        }
      },
      "source": [
        "fig = plt.figure(figsize=(10,10))\n",
        "ax = fig.add_subplot(111)\n",
        "normal_error_df = error_df[(error_df['true_class']== 0) & (error_df['reconstruction_error'] < 10)]\n",
        "_ = ax.hist(normal_error_df.reconstruction_error.values, bins=10)"
      ],
      "execution_count": 0,
      "outputs": [
        {
          "output_type": "display_data",
          "data": {
            "image/png": "[encoded data removed]",
            "text/plain": [
              "<Figure size 720x720 with 1 Axes>"
            ]
          },
          "metadata": {
            "tags": []
          }
        }
      ]
    },
    {
      "cell_type": "markdown",
      "metadata": {
        "id": "F6m87OvuKKPF",
        "colab_type": "text"
      },
      "source": [
        "Reconstruction error with fraud"
      ]
    },
    {
      "cell_type": "code",
      "metadata": {
        "id": "Og7XTAK6KNwq",
        "colab_type": "code",
        "outputId": "5788d154-143c-4c6f-a9d3-56ced7dd286f",
        "colab": {
          "base_uri": "https://localhost:8080/",
          "height": 269
        }
      },
      "source": [
        "fig = plt.figure()\n",
        "ax = fig.add_subplot(111)\n",
        "fraud_error_df = error_df[error_df['true_class'] == 1]\n",
        "_ = ax.hist(fraud_error_df.reconstruction_error.values, bins=10)\n"
      ],
      "execution_count": 0,
      "outputs": [
        {
          "output_type": "display_data",
          "data": {
            "image/png": "[encoded data removed]",
            "text/plain": [
              "<Figure size 432x288 with 1 Axes>"
            ]
          },
          "metadata": {
            "tags": []
          }
        }
      ]
    },
    {
      "cell_type": "code",
      "metadata": {
        "id": "7gfgbj23KydY",
        "colab_type": "code",
        "colab": {}
      },
      "source": [
        "threshold = 2#fixed\n",
        "LABELS = [\"Normal\", \"deliquent\"]"
      ],
      "execution_count": 0,
      "outputs": []
    },
    {
      "cell_type": "code",
      "metadata": {
        "id": "XjVz_VAOLEPl",
        "colab_type": "code",
        "outputId": "7d5dba0c-c975-4fbe-f5dd-b997ae580ee9",
        "colab": {
          "base_uri": "https://localhost:8080/",
          "height": 747
        }
      },
      "source": [
        "y_pred = [1 if e > threshold else 0 for e in error_df.reconstruction_error.values]\n",
        "conf_matrix = confusion_matrix(error_df.true_class, y_pred)\n",
        "plt.figure(figsize=(12, 12))\n",
        "sln.heatmap(conf_matrix, xticklabels=LABELS, yticklabels=LABELS, annot=True, fmt=\"d\");\n",
        "plt.title(\"Confusion matrix\")\n",
        "plt.ylabel('True class')\n",
        "plt.xlabel('Predicted')"
      ],
      "execution_count": 0,
      "outputs": [
        {
          "output_type": "execute_result",
          "data": {
            "text/plain": [
              "Text(0.5, 87.0, 'Predicted')"
            ]
          },
          "metadata": {
            "tags": []
          },
          "execution_count": 47
        },
        {
          "output_type": "display_data",
          "data": {
            "image/png": "[encoded data removed]",
            "text/plain": [
              "<Figure size 864x864 with 2 Axes>"
            ]
          },
          "metadata": {
            "tags": []
          }
        }
      ]
    },
    {
      "cell_type": "code",
      "metadata": {
        "id": "4l4VDWi0Ou_K",
        "colab_type": "code",
        "colab": {}
      },
      "source": [
        "predicted=autoencoder.predict(te)"
      ],
      "execution_count": 0,
      "outputs": []
    },
    {
      "cell_type": "code",
      "metadata": {
        "id": "4a6nE7ruPQFp",
        "colab_type": "code",
        "colab": {}
      },
      "source": [
        "mse = np.mean(np.power(te - predicted, 2), axis=1)\n",
        "error_test = pd.DataFrame({'reconstruction_error': mse})\n",
        "                        "
      ],
      "execution_count": 0,
      "outputs": []
    },
    {
      "cell_type": "code",
      "metadata": {
        "id": "g9AX9ppxP1Qt",
        "colab_type": "code",
        "colab": {}
      },
      "source": [
        "y_final = [1 if e > threshold else 0 for e in error_test.reconstruction_error.values]"
      ],
      "execution_count": 0,
      "outputs": []
    },
    {
      "cell_type": "code",
      "metadata": {
        "id": "3H1U5micuq4M",
        "colab_type": "code",
        "colab": {}
      },
      "source": [
        "hidden_representation = Sequential()\n",
        "hidden_representation.add(autoencoder.layers[0])\n",
        "hidden_representation.add(autoencoder.layers[1])\n",
        "hidden_representation.add(autoencoder.layers[2])"
      ],
      "execution_count": 0,
      "outputs": []
    },
    {
      "cell_type": "code",
      "metadata": {
        "id": "65-_mocUu4Ns",
        "colab_type": "code",
        "colab": {}
      },
      "source": [
        "no_hid_rep = hidden_representation.predict(x_not)\n",
        "yes_hid_rep = hidden_representation.predict(x_yes)"
      ],
      "execution_count": 0,
      "outputs": []
    },
    {
      "cell_type": "code",
      "metadata": {
        "id": "aEmxn_P5u6Ms",
        "colab_type": "code",
        "colab": {}
      },
      "source": [
        "rep_x = np.append(no_hid_rep, yes_hid_rep, axis = 0)\n",
        "y_n = np.zeros(no_hid_rep.shape[0])\n",
        "y_f = np.ones(yes_hid_rep.shape[0])\n",
        "rep_y = np.append(y_n, y_f)"
      ],
      "execution_count": 0,
      "outputs": []
    },
    {
      "cell_type": "code",
      "metadata": {
        "id": "yXxyrfSnsZsw",
        "colab_type": "code",
        "colab": {}
      },
      "source": [
        "def tsne_plot(x1, y1):\n",
        "    tsne = TSNE(n_components=2, random_state=0)\n",
        "    X_t = tsne.fit_transform(x1)\n",
        "\n",
        "    plt.figure(figsize=(12, 8))\n",
        "    plt.scatter(X_t[np.where(y1 == 0), 0], X_t[np.where(y1 == 0), 1], marker='o', color='g', linewidth='1', alpha=0.8, label='Not default')\n",
        "    plt.scatter(X_t[np.where(y1 == 1), 0], X_t[np.where(y1 == 1), 1], marker='o', color='r', linewidth='1', alpha=0.8, label='defaulted')\n",
        "\n",
        "    plt.legend(loc='best');\n",
        "    \n",
        "    plt.show();\n",
        "    "
      ],
      "execution_count": 0,
      "outputs": []
    },
    {
      "cell_type": "code",
      "metadata": {
        "id": "x5XWmQl_sjH-",
        "colab_type": "code",
        "colab": {}
      },
      "source": [
        "tsne_plot(rep_x, rep_y)"
      ],
      "execution_count": 0,
      "outputs": []
    },
    {
      "cell_type": "code",
      "metadata": {
        "id": "uEwSCnP9u9_i",
        "colab_type": "code",
        "colab": {}
      },
      "source": [
        "from sklearn.model_selection import train_test_split\n",
        "from sklearn.metrics import classification_report,confusion_matrix,roc_auc_score,f1_score,roc_curve\n",
        "from sklearn.model_selection import KFold, StratifiedKFold,cross_val_score\n",
        "from sklearn.base import BaseEstimator, TransformerMixin, RegressorMixin, clone\n",
        "import xgboost as xgb\n",
        "import lightgbm as lgb\n",
        "import warnings\n",
        "warnings.filterwarnings(\"ignore\")"
      ],
      "execution_count": 0,
      "outputs": []
    },
    {
      "cell_type": "code",
      "metadata": {
        "id": "R2MtgVflvDXX",
        "colab_type": "code",
        "colab": {}
      },
      "source": [
        "x, x_test, y, y_test = train_test_split(rep_x, rep_y, test_size=0.3, random_state=42, stratify=rep_y)"
      ],
      "execution_count": 0,
      "outputs": []
    },
    {
      "cell_type": "code",
      "metadata": {
        "id": "iaIozSANvHwD",
        "colab_type": "code",
        "colab": {}
      },
      "source": [
        "#cv\n",
        "n_folds = 3\n",
        "\n",
        "def cv(model):\n",
        "    kf = KFold(n_folds, shuffle=True, random_state=42).get_n_splits(x)\n",
        "    print('started')\n",
        "    cv=cross_val_score(model, x, y, scoring=\"f1\", cv = kf)\n",
        "    print('done')\n",
        "    return(cv.mean())"
      ],
      "execution_count": 0,
      "outputs": []
    },
    {
      "cell_type": "code",
      "metadata": {
        "id": "eJqP9t-PvMZY",
        "colab_type": "code",
        "colab": {}
      },
      "source": [
        "from sklearn.ensemble import RandomForestClassifier,GradientBoostingClassifier\n",
        "from sklearn.linear_model import LogisticRegressionCV\n",
        "from sklearn.svm import SVC\n",
        "from sklearn.neighbors import KNeighborsClassifier\n",
        "from sklearn.tree import DecisionTreeClassifier"
      ],
      "execution_count": 0,
      "outputs": []
    },
    {
      "cell_type": "code",
      "metadata": {
        "id": "tuq0XynSvP7X",
        "colab_type": "code",
        "colab": {}
      },
      "source": [
        "GBoost = GradientBoostingClassifier(n_estimators=2500, learning_rate=0.05,\n",
        "                                 max_depth=5, max_features='sqrt',\n",
        "                                 min_samples_leaf=15, min_samples_split=10, \n",
        "                               loss='deviance', random_state =5,warm_start=True)"
      ],
      "execution_count": 0,
      "outputs": []
    },
    {
      "cell_type": "code",
      "metadata": {
        "id": "Dp8iExi7X70n",
        "colab_type": "code",
        "colab": {}
      },
      "source": [
        "lg=LogisticRegressionCV(class_weight='balanced',scoring='f1',cv=3)"
      ],
      "execution_count": 0,
      "outputs": []
    },
    {
      "cell_type": "code",
      "metadata": {
        "id": "6Yo1rjYcjfGE",
        "colab_type": "code",
        "outputId": "630a3354-f8aa-4378-8890-fb507107cdea",
        "colab": {
          "base_uri": "https://localhost:8080/",
          "height": 374
        }
      },
      "source": [
        "#full data\n",
        "from sklearn.linear_model import LogisticRegression\n",
        "for c in [0.001,0.01,0.1,1,10,100,1000]:\n",
        "  score=cv(LogisticRegression(C=c))\n",
        "  print(score)"
      ],
      "execution_count": 0,
      "outputs": [
        {
          "output_type": "stream",
          "text": [
            "started\n",
            "done\n",
            "0.0\n",
            "started\n",
            "done\n",
            "0.0\n",
            "started\n",
            "done\n",
            "0.0\n",
            "started\n",
            "done\n",
            "0.0\n",
            "started\n",
            "done\n",
            "0.0\n",
            "started\n",
            "done\n",
            "0.0\n",
            "started\n",
            "done\n",
            "0.0\n"
          ],
          "name": "stdout"
        }
      ]
    },
    {
      "cell_type": "code",
      "metadata": {
        "id": "yEG7lwJSnSxX",
        "colab_type": "code",
        "outputId": "2b921097-35c2-474c-e7ca-0b60846aeddd",
        "colab": {
          "base_uri": "https://localhost:8080/",
          "height": 102
        }
      },
      "source": [
        "lr=LogisticRegression(C=10)\n",
        "lr.fit(x,y)"
      ],
      "execution_count": 0,
      "outputs": [
        {
          "output_type": "execute_result",
          "data": {
            "text/plain": [
              "LogisticRegression(C=10, class_weight=None, dual=False, fit_intercept=True,\n",
              "                   intercept_scaling=1, l1_ratio=None, max_iter=100,\n",
              "                   multi_class='warn', n_jobs=None, penalty='l2',\n",
              "                   random_state=None, solver='warn', tol=0.0001, verbose=0,\n",
              "                   warm_start=False)"
            ]
          },
          "metadata": {
            "tags": []
          },
          "execution_count": 35
        }
      ]
    },
    {
      "cell_type": "code",
      "metadata": {
        "id": "X1SY7Q4PmqTU",
        "colab_type": "code",
        "outputId": "9bfa7b7e-c3e6-4ee7-ab0f-23f5182e4ad3",
        "colab": {
          "base_uri": "https://localhost:8080/",
          "height": 269
        }
      },
      "source": [
        "y_pred_proba = lr.predict_proba(x_test)[::,1]\n",
        "fpr, tpr, _ = roc_curve(y_test,  y_pred_proba)\n",
        "auc = roc_auc_score(y_test, y_pred_proba)\n",
        "plt.plot(fpr,tpr,label=\"data 1, auc=\"+str(auc))\n",
        "plt.legend(loc=4)\n",
        "plt.show()\n"
      ],
      "execution_count": 0,
      "outputs": [
        {
          "output_type": "display_data",
          "data": {
            "image/png": "[encoded data removed]",
            "text/plain": [
              "<Figure size 432x288 with 1 Axes>"
            ]
          },
          "metadata": {
            "tags": []
          }
        }
      ]
    },
    {
      "cell_type": "code",
      "metadata": {
        "id": "jq4Pi-NQkBwG",
        "colab_type": "code",
        "outputId": "803d9bc9-f52f-48cf-e9ff-55d3c33ab501",
        "colab": {
          "base_uri": "https://localhost:8080/",
          "height": 34
        }
      },
      "source": [
        "f1_score(y_test,lg.predict(x_test))"
      ],
      "execution_count": 0,
      "outputs": [
        {
          "output_type": "execute_result",
          "data": {
            "text/plain": [
              "0.3434650455927052"
            ]
          },
          "metadata": {
            "tags": []
          },
          "execution_count": 121
        }
      ]
    },
    {
      "cell_type": "code",
      "metadata": {
        "id": "vngsCS1Gftxt",
        "colab_type": "code",
        "outputId": "06ead4f8-859c-4a92-f92e-1e0848c4ffae",
        "colab": {
          "base_uri": "https://localhost:8080/",
          "height": 170
        }
      },
      "source": [
        "GBoost.fit(x,y)"
      ],
      "execution_count": 0,
      "outputs": [
        {
          "output_type": "execute_result",
          "data": {
            "text/plain": [
              "GradientBoostingClassifier(criterion='friedman_mse', init=None,\n",
              "                           learning_rate=0.05, loss='deviance', max_depth=4,\n",
              "                           max_features='sqrt', max_leaf_nodes=None,\n",
              "                           min_impurity_decrease=0.0, min_impurity_split=None,\n",
              "                           min_samples_leaf=15, min_samples_split=10,\n",
              "                           min_weight_fraction_leaf=0.0, n_estimators=3000,\n",
              "                           n_iter_no_change=None, presort='auto',\n",
              "                           random_state=5, subsample=1.0, tol=0.0001,\n",
              "                           validation_fraction=0.1, verbose=0, warm_start=True)"
            ]
          },
          "metadata": {
            "tags": []
          },
          "execution_count": 59
        }
      ]
    },
    {
      "cell_type": "code",
      "metadata": {
        "id": "tijkKh3fvSKU",
        "colab_type": "code",
        "outputId": "06ed0095-c69e-45fe-f5a9-908d11d28b97",
        "colab": {
          "base_uri": "https://localhost:8080/",
          "height": 34
        }
      },
      "source": [
        "f1_score(y_test,stacked_averaged_models.predict(x_test))"
      ],
      "execution_count": 0,
      "outputs": [
        {
          "output_type": "execute_result",
          "data": {
            "text/plain": [
              "0.7060998151571164"
            ]
          },
          "metadata": {
            "tags": []
          },
          "execution_count": 92
        }
      ]
    },
    {
      "cell_type": "code",
      "metadata": {
        "id": "zZJD8LF_QTv5",
        "colab_type": "code",
        "colab": {}
      },
      "source": [
        "model_xgb = xgb.XGBClassifier(colsample_bylevel_tree=0.4603, gamma=0.0468, \n",
        "                         learning_rate=0.05, max_depth=5, \n",
        "                             min_child_weight=1.7817, n_estimators=2200,\n",
        "                           reg_alpha=0.4640, reg_lambda=0.8571,\n",
        "                             subsample=0.5213, silent=1,\n",
        "                             random_state =7, nthread = -1,scale_pos_weight=99)"
      ],
      "execution_count": 0,
      "outputs": []
    },
    {
      "cell_type": "code",
      "metadata": {
        "id": "C7RytMeJYmXh",
        "colab_type": "code",
        "colab": {}
      },
      "source": [
        "rf=RandomForestClassifier(class_weight='balanced',max_features='sqrt',max_depth=4)"
      ],
      "execution_count": 0,
      "outputs": []
    },
    {
      "cell_type": "code",
      "metadata": {
        "id": "wRzsMBGARueq",
        "colab_type": "code",
        "outputId": "68d3abb8-c027-434a-eeb1-54a4fd19f7bd",
        "colab": {
          "base_uri": "https://localhost:8080/",
          "height": 68
        }
      },
      "source": [
        "cv(model_xgb)"
      ],
      "execution_count": 0,
      "outputs": [
        {
          "output_type": "stream",
          "text": [
            "started\n",
            "done\n"
          ],
          "name": "stdout"
        },
        {
          "output_type": "execute_result",
          "data": {
            "text/plain": [
              "0.45838809474168113"
            ]
          },
          "metadata": {
            "tags": []
          },
          "execution_count": 26
        }
      ]
    },
    {
      "cell_type": "code",
      "metadata": {
        "id": "IXqh1_nrXJqS",
        "colab_type": "code",
        "outputId": "0205d2c3-45a5-4007-e746-ba3aa9249ee2",
        "colab": {
          "base_uri": "https://localhost:8080/",
          "height": 153
        }
      },
      "source": [
        "model_xgb.fit(x,y)"
      ],
      "execution_count": 0,
      "outputs": [
        {
          "output_type": "execute_result",
          "data": {
            "text/plain": [
              "XGBClassifier(base_score=0.5, booster='gbtree', colsample_bylevel=1,\n",
              "              colsample_bylevel_tree=0.4603, colsample_bynode=1,\n",
              "              colsample_bytree=1, gamma=0.0468, learning_rate=0.05,\n",
              "              max_delta_step=0, max_depth=5, min_child_weight=1.7817,\n",
              "              missing=None, n_estimators=2200, n_jobs=1, nthread=-1,\n",
              "              objective='binary:logistic', random_state=7, reg_alpha=0.464,\n",
              "              reg_lambda=0.8571, scale_pos_weight=99, seed=None, silent=1,\n",
              "              subsample=0.5213, verbosity=1)"
            ]
          },
          "metadata": {
            "tags": []
          },
          "execution_count": 97
        }
      ]
    },
    {
      "cell_type": "code",
      "metadata": {
        "id": "Kmvb5VuZa7y5",
        "colab_type": "code",
        "outputId": "d7f52354-7c6c-4d3e-a7d2-51e392f96b1a",
        "colab": {
          "base_uri": "https://localhost:8080/",
          "height": 34
        }
      },
      "source": [
        "f1_score(y_test,model_lgb.predict(x_test))"
      ],
      "execution_count": 0,
      "outputs": [
        {
          "output_type": "execute_result",
          "data": {
            "text/plain": [
              "0.22805247225025227"
            ]
          },
          "metadata": {
            "tags": []
          },
          "execution_count": 44
        }
      ]
    },
    {
      "cell_type": "code",
      "metadata": {
        "id": "jtkkuVstRIVK",
        "colab_type": "code",
        "colab": {}
      },
      "source": [
        "model_lgb = lgb.LGBMClassifier(objective='binary',num_leaves=5,\n",
        "                              learning_rate=0.01, n_estimators=720,\n",
        "                              max_bin = 55, bagging_fraction = 0.8,\n",
        "                              bagging_freq = 5, feature_fraction = 0.2319,\n",
        "                              feature_fraction_seed=9, bagging_seed=9,\n",
        "                              min_data_in_leaf =6, min_sum_hessian_in_leaf = 11,\n",
        "                             scale_pos_weight=99)"
      ],
      "execution_count": 0,
      "outputs": []
    },
    {
      "cell_type": "code",
      "metadata": {
        "id": "GvnLO6lphMcL",
        "colab_type": "code",
        "outputId": "7ba17f05-a7f1-490e-eb00-05d0fc6fadeb",
        "colab": {
          "base_uri": "https://localhost:8080/",
          "height": 68
        }
      },
      "source": [
        "cv(model_lgb)"
      ],
      "execution_count": 0,
      "outputs": [
        {
          "output_type": "stream",
          "text": [
            "started\n",
            "done\n"
          ],
          "name": "stdout"
        },
        {
          "output_type": "execute_result",
          "data": {
            "text/plain": [
              "0.25797259460052924"
            ]
          },
          "metadata": {
            "tags": []
          },
          "execution_count": 41
        }
      ]
    },
    {
      "cell_type": "code",
      "metadata": {
        "id": "n-jSXU3TiKsY",
        "colab_type": "code",
        "outputId": "1e15064e-eb7a-41a6-d8be-e00dd0e4624f",
        "colab": {
          "base_uri": "https://localhost:8080/",
          "height": 187
        }
      },
      "source": [
        "model_lgb.fit(x,y)"
      ],
      "execution_count": 0,
      "outputs": [
        {
          "output_type": "execute_result",
          "data": {
            "text/plain": [
              "LGBMClassifier(bagging_fraction=0.8, bagging_freq=5, bagging_seed=9,\n",
              "               boosting_type='gbdt', class_weight=None, colsample_bytree=1.0,\n",
              "               feature_fraction=0.2319, feature_fraction_seed=9,\n",
              "               importance_type='split', learning_rate=0.01, max_bin=55,\n",
              "               max_depth=-1, min_child_samples=20, min_child_weight=0.001,\n",
              "               min_data_in_leaf=6, min_split_gain=0.0,\n",
              "               min_sum_hessian_in_leaf=11, n_estimators=720, n_jobs=-1,\n",
              "               num_leaves=5, objective='binary', random_state=None,\n",
              "               reg_alpha=0.0, reg_lambda=0.0, scale_pos_weight=99, silent=True,\n",
              "               subsample=1.0, subsample_for_bin=200000, subsample_freq=0)"
            ]
          },
          "metadata": {
            "tags": []
          },
          "execution_count": 43
        }
      ]
    },
    {
      "cell_type": "code",
      "metadata": {
        "id": "ey3EDnk0rFo2",
        "colab_type": "code",
        "colab": {}
      },
      "source": [
        "test_hidden=hidden_representation.predict(comb_test)"
      ],
      "execution_count": 0,
      "outputs": []
    },
    {
      "cell_type": "code",
      "metadata": {
        "id": "HRpwjIV21hde",
        "colab_type": "code",
        "colab": {}
      },
      "source": [
        "test=pd.read_csv('/content/drive/My Drive/new_features_test.csv')"
      ],
      "execution_count": 0,
      "outputs": []
    },
    {
      "cell_type": "code",
      "metadata": {
        "id": "_LU1T0FSPJ3T",
        "colab_type": "code",
        "colab": {}
      },
      "source": [
        "te=test.drop('4',axis=1)"
      ],
      "execution_count": 0,
      "outputs": []
    },
    {
      "cell_type": "code",
      "metadata": {
        "id": "9Ix8PJ4OfRBr",
        "colab_type": "code",
        "colab": {}
      },
      "source": [
        "te=te.drop('6',axis=1)"
      ],
      "execution_count": 0,
      "outputs": []
    },
    {
      "cell_type": "code",
      "metadata": {
        "id": "0N730K5Go3RD",
        "colab_type": "code",
        "colab": {}
      },
      "source": [
        "te=te.drop('7',axis=1)"
      ],
      "execution_count": 0,
      "outputs": []
    },
    {
      "cell_type": "code",
      "metadata": {
        "id": "5cj9PwcEdgqa",
        "colab_type": "code",
        "outputId": "96036c05-b934-40fe-ad18-0d8ecf90dd15",
        "colab": {
          "base_uri": "https://localhost:8080/",
          "height": 34
        }
      },
      "source": [
        "te.shape"
      ],
      "execution_count": 0,
      "outputs": [
        {
          "output_type": "execute_result",
          "data": {
            "text/plain": [
              "(35866, 12)"
            ]
          },
          "metadata": {
            "tags": []
          },
          "execution_count": 36
        }
      ]
    },
    {
      "cell_type": "code",
      "metadata": {
        "id": "E55t-HWQKGnU",
        "colab_type": "code",
        "colab": {}
      },
      "source": [
        "te_final=te.drop('0',axis=1)"
      ],
      "execution_count": 0,
      "outputs": []
    },
    {
      "cell_type": "code",
      "metadata": {
        "id": "IN7tcdgXcugU",
        "colab_type": "code",
        "colab": {}
      },
      "source": [
        "comb_test=pd.concat([te_final,dummy_test],axis=1)"
      ],
      "execution_count": 0,
      "outputs": []
    },
    {
      "cell_type": "code",
      "metadata": {
        "id": "_n786GXU2L6C",
        "colab_type": "code",
        "colab": {}
      },
      "source": [
        "test_orig=pd.read_csv('/content/drive/My Drive/test.csv')"
      ],
      "execution_count": 0,
      "outputs": []
    },
    {
      "cell_type": "code",
      "metadata": {
        "id": "yqkcnavVcxUc",
        "colab_type": "code",
        "colab": {}
      },
      "source": [
        "dummy_test=pd.get_dummies(test_orig['financial_institution'],drop_first=True)"
      ],
      "execution_count": 0,
      "outputs": []
    },
    {
      "cell_type": "code",
      "metadata": {
        "id": "WC65jTEEnJlw",
        "colab_type": "code",
        "colab": {}
      },
      "source": [
        "prob=lr.predict_proba(test_hidden)"
      ],
      "execution_count": 0,
      "outputs": []
    },
    {
      "cell_type": "code",
      "metadata": {
        "id": "gRS4Qn6lnTGP",
        "colab_type": "code",
        "colab": {}
      },
      "source": [
        "y_pred=[1 if e>0.04 else 0 for e in  pr"
      ],
      "execution_count": 0,
      "outputs": []
    },
    {
      "cell_type": "code",
      "metadata": {
        "id": "zNC00Tqh12r3",
        "colab_type": "code",
        "colab": {}
      },
      "source": [
        "predict=lr.predict(test_hidden)"
      ],
      "execution_count": 0,
      "outputs": []
    },
    {
      "cell_type": "code",
      "metadata": {
        "id": "zUbWnmYe1-lo",
        "colab_type": "code",
        "colab": {}
      },
      "source": [
        "my_sub=pd.DataFrame({'loan_id':test_orig['loan_id'],'m13':predict[:,0]})"
      ],
      "execution_count": 0,
      "outputs": []
    },
    {
      "cell_type": "code",
      "metadata": {
        "id": "R8jdjlM02B9Z",
        "colab_type": "code",
        "outputId": "61f64c5e-6e9c-499a-c880-c305feebe332",
        "colab": {
          "base_uri": "https://localhost:8080/",
          "height": 68
        }
      },
      "source": [
        "my_sub['m13'].value_counts()"
      ],
      "execution_count": 0,
      "outputs": [
        {
          "output_type": "execute_result",
          "data": {
            "text/plain": [
              "0    35825\n",
              "1       41\n",
              "Name: m13, dtype: int64"
            ]
          },
          "metadata": {
            "tags": []
          },
          "execution_count": 121
        }
      ]
    },
    {
      "cell_type": "code",
      "metadata": {
        "id": "pPZTp2fj2i5E",
        "colab_type": "code",
        "colab": {}
      },
      "source": [
        "my_sub.to_csv('baseline_45.csv',index=False)"
      ],
      "execution_count": 0,
      "outputs": []
    },
    {
      "cell_type": "code",
      "metadata": {
        "id": "Yvs_A5Eb2ofd",
        "colab_type": "code",
        "outputId": "777ffd0c-3127-4654-c1a0-c6d80af5cd72",
        "colab": {
          "base_uri": "https://localhost:8080/",
          "height": 34
        }
      },
      "source": [
        "test_hidden.shape"
      ],
      "execution_count": 0,
      "outputs": [
        {
          "output_type": "execute_result",
          "data": {
            "text/plain": [
              "(35866, 200)"
            ]
          },
          "metadata": {
            "tags": []
          },
          "execution_count": 41
        }
      ]
    },
    {
      "cell_type": "code",
      "metadata": {
        "id": "BspbRJc541Pn",
        "colab_type": "code",
        "colab": {}
      },
      "source": [
        "#checking for covariate shift\n",
        "train_new['is_train']=1\n",
        "test['is_train']=0"
      ],
      "execution_count": 0,
      "outputs": []
    },
    {
      "cell_type": "code",
      "metadata": {
        "id": "JndJ8nw1gjdY",
        "colab_type": "code",
        "colab": {}
      },
      "source": [
        "df_combine = pd.concat([train_new, test], axis=0, ignore_index=True)"
      ],
      "execution_count": 0,
      "outputs": []
    },
    {
      "cell_type": "code",
      "metadata": {
        "id": "CNDBGN6Dg4K6",
        "colab_type": "code",
        "colab": {}
      },
      "source": [
        "y_co = df_combine['is_train'].values #labels\n",
        "x_co = df_combine.drop('is_train', axis=1).values "
      ],
      "execution_count": 0,
      "outputs": []
    },
    {
      "cell_type": "code",
      "metadata": {
        "id": "CrmRzRJEhHSc",
        "colab_type": "code",
        "outputId": "7195e142-0834-4aea-9ca1-89fd016b37b0",
        "colab": {
          "base_uri": "https://localhost:8080/",
          "height": 68
        }
      },
      "source": [
        "cv(GBoost)"
      ],
      "execution_count": 0,
      "outputs": [
        {
          "output_type": "stream",
          "text": [
            "started\n",
            "done\n"
          ],
          "name": "stdout"
        },
        {
          "output_type": "execute_result",
          "data": {
            "text/plain": [
              "0.8325667891363594"
            ]
          },
          "metadata": {
            "tags": []
          },
          "execution_count": 102
        }
      ]
    },
    {
      "cell_type": "code",
      "metadata": {
        "id": "UV25eQy6mUCF",
        "colab_type": "code",
        "colab": {}
      },
      "source": [
        "from sklearn.ensemble import RandomForestClassifier\n",
        "rf=RandomForestClassifier(n_jobs=-1, max_depth=5, min_samples_leaf = 5)"
      ],
      "execution_count": 0,
      "outputs": []
    },
    {
      "cell_type": "code",
      "metadata": {
        "id": "FjVl0JFzmymc",
        "colab_type": "code",
        "outputId": "7e18622a-d8cd-4b72-ad41-5dce55af25f2",
        "colab": {
          "base_uri": "https://localhost:8080/",
          "height": 136
        }
      },
      "source": [
        "rf.fit(x_co,y_co)"
      ],
      "execution_count": 0,
      "outputs": [
        {
          "output_type": "execute_result",
          "data": {
            "text/plain": [
              "RandomForestClassifier(bootstrap=True, class_weight=None, criterion='gini',\n",
              "                       max_depth=5, max_features='auto', max_leaf_nodes=None,\n",
              "                       min_impurity_decrease=0.0, min_impurity_split=None,\n",
              "                       min_samples_leaf=5, min_samples_split=2,\n",
              "                       min_weight_fraction_leaf=0.0, n_estimators=10, n_jobs=-1,\n",
              "                       oob_score=False, random_state=None, verbose=0,\n",
              "                       warm_start=False)"
            ]
          },
          "metadata": {
            "tags": []
          },
          "execution_count": 107
        }
      ]
    },
    {
      "cell_type": "code",
      "metadata": {
        "id": "sVeLZPFxhlTZ",
        "colab_type": "code",
        "outputId": "6a9de1e6-4b38-4f10-9d36-b46e87841dfd",
        "colab": {
          "base_uri": "https://localhost:8080/",
          "height": 163
        }
      },
      "source": [
        "x_co.head()"
      ],
      "execution_count": 0,
      "outputs": [
        {
          "output_type": "error",
          "ename": "AttributeError",
          "evalue": "ignored",
          "traceback": [
            "\u001b[0;31m---------------------------------------------------------------------------\u001b[0m",
            "\u001b[0;31mAttributeError\u001b[0m                            Traceback (most recent call last)",
            "\u001b[0;32m<ipython-input-110-733172cdc0b5>\u001b[0m in \u001b[0;36m<module>\u001b[0;34m()\u001b[0m\n\u001b[0;32m----> 1\u001b[0;31m \u001b[0mx_co\u001b[0m\u001b[0;34m.\u001b[0m\u001b[0mhead\u001b[0m\u001b[0;34m(\u001b[0m\u001b[0;34m)\u001b[0m\u001b[0;34m\u001b[0m\u001b[0;34m\u001b[0m\u001b[0m\n\u001b[0m",
            "\u001b[0;31mAttributeError\u001b[0m: 'numpy.ndarray' object has no attribute 'head'"
          ]
        }
      ]
    },
    {
      "cell_type": "code",
      "metadata": {
        "id": "a7MkwV3BhtCh",
        "colab_type": "code",
        "outputId": "8f15473b-4936-4833-f4f8-28a1f0d34b6e",
        "colab": {
          "base_uri": "https://localhost:8080/",
          "height": 286
        }
      },
      "source": [
        "feat_importances = pd.Series(rf.feature_importances_, index=df_combine.drop('is_train',axis=1).columns)\n",
        "feat_importances.nlargest(20).plot(kind='barh')"
      ],
      "execution_count": 0,
      "outputs": [
        {
          "output_type": "execute_result",
          "data": {
            "text/plain": [
              "<matplotlib.axes._subplots.AxesSubplot at 0x7fd482da35c0>"
            ]
          },
          "metadata": {
            "tags": []
          },
          "execution_count": 112
        },
        {
          "output_type": "display_data",
          "data": {
            "image/png": "[encoded data removed]",
            "text/plain": [
              "<Figure size 432x288 with 1 Axes>"
            ]
          },
          "metadata": {
            "tags": []
          }
        }
      ]
    },
    {
      "cell_type": "code",
      "metadata": {
        "id": "tmJ2i5QKm_P9",
        "colab_type": "code",
        "colab": {}
      },
      "source": [
        "tr=train_new.drop('4',axis=1)\n",
        "te=test.drop('4',axis=1)"
      ],
      "execution_count": 0,
      "outputs": []
    },
    {
      "cell_type": "code",
      "metadata": {
        "id": "UdltXB2UnvdL",
        "colab_type": "code",
        "outputId": "f7f008b1-e390-427f-d3a5-23786f43bda0",
        "colab": {
          "base_uri": "https://localhost:8080/",
          "height": 85
        }
      },
      "source": [
        "df_combine.columns"
      ],
      "execution_count": 0,
      "outputs": [
        {
          "output_type": "execute_result",
          "data": {
            "text/plain": [
              "Index(['0', '1', '2', '3', '4', '5', '6', '7', '8', '9', 'sum_40',\n",
              "       'loan_purpose_B12', 'loan_purpose_C86', 'source_Y', 'source_Z',\n",
              "       'is_train'],\n",
              "      dtype='object')"
            ]
          },
          "metadata": {
            "tags": []
          },
          "execution_count": 114
        }
      ]
    },
    {
      "cell_type": "code",
      "metadata": {
        "id": "0uH9bITenzfJ",
        "colab_type": "code",
        "colab": {}
      },
      "source": [
        "# model_xgb = xgb.XGBClassifier(colsample_bytree=0.4603, gamma=0.0468, \n",
        "#                              learning_rate=0.05, max_depth=3, \n",
        "#                              min_child_weight=1.7817, n_estimators=2200,\n",
        "#                              reg_alpha=0.4640, reg_lambda=0.8571,\n",
        "#                              subsample=0.5213, silent=1,\n",
        "#                              random_state =7, nthread = -1,scale_pos_weight=95,seed=20)"
      ],
      "execution_count": 0,
      "outputs": []
    },
    {
      "cell_type": "markdown",
      "metadata": {
        "id": "WmNQkwwfQR1H",
        "colab_type": "text"
      },
      "source": [
        "Lets try stacked model"
      ]
    },
    {
      "cell_type": "code",
      "metadata": {
        "id": "A8rBQ4s0QQ6T",
        "colab_type": "code",
        "colab": {}
      },
      "source": [
        "class AveragingModels(BaseEstimator, RegressorMixin, TransformerMixin):\n",
        "    def __init__(self, models):\n",
        "        self.models = models\n",
        "        \n",
        "    # we define clones of the original models to fit the data in\n",
        "    def fit(self, X, y):\n",
        "        self.models_ = [clone(x) for x in self.models]\n",
        "        \n",
        "        # Train cloned base models\n",
        "        for model in self.models_:\n",
        "            model.fit(X, y)\n",
        "\n",
        "        return self\n",
        "    \n",
        "    #Now we do the predictions for cloned models and average them\n",
        "    def predict(self, X):\n",
        "        predictions = np.column_stack([\n",
        "            model.predict(X) for model in self.models_\n",
        "        ])\n",
        "        return np.mean(predictions, axis=1)   "
      ],
      "execution_count": 0,
      "outputs": []
    },
    {
      "cell_type": "code",
      "metadata": {
        "id": "PuO8AKIqQaAt",
        "colab_type": "code",
        "colab": {}
      },
      "source": [
        "averaged_models = AveragingModels(models = (GBoost,model_xgb))"
      ],
      "execution_count": 0,
      "outputs": []
    },
    {
      "cell_type": "code",
      "metadata": {
        "id": "3CKDV1tJVzrJ",
        "colab_type": "code",
        "colab": {}
      },
      "source": [
        "class StackingAveragedModels(BaseEstimator, RegressorMixin, TransformerMixin):\n",
        "    def __init__(self, base_models, meta_model, n_folds=5):\n",
        "        self.base_models = base_models\n",
        "        self.meta_model = meta_model\n",
        "        self.n_folds = n_folds\n",
        "   \n",
        "    # We again fit the data on clones of the original models\n",
        "    def fit(self, X, y):\n",
        "        self.base_models_ = [list() for x in self.base_models]\n",
        "        self.meta_model_ = clone(self.meta_model)\n",
        "        kfold = KFold(n_splits=self.n_folds, shuffle=True, random_state=156)\n",
        "        \n",
        "        # Train cloned base models then create out-of-fold predictions\n",
        "        # that are needed to train the cloned meta-model\n",
        "        out_of_fold_predictions = np.zeros((X.shape[0], len(self.base_models)))\n",
        "        for i, model in enumerate(self.base_models):\n",
        "            for train_index, holdout_index in kfold.split(X, y):\n",
        "                instance = clone(model)\n",
        "                self.base_models_[i].append(instance)\n",
        "                instance.fit(X[train_index], y[train_index])\n",
        "                y_pred = instance.predict(X[holdout_index])\n",
        "                out_of_fold_predictions[holdout_index, i] = y_pred\n",
        "                \n",
        "        # Now train the cloned  meta-model using the out-of-fold predictions as new feature\n",
        "        self.meta_model_.fit(out_of_fold_predictions, y)\n",
        "        return self\n",
        "   \n",
        "    #Do the predictions of all base models on the test data and use the averaged predictions as \n",
        "    #meta-features for the final prediction which is done by the meta-model\n",
        "    def predict(self, X):\n",
        "        meta_features = np.column_stack([\n",
        "            np.column_stack([model.predict(X) for model in base_models]).mean(axis=1)\n",
        "            for base_models in self.base_models_ ])\n",
        "        return self.meta_model_.predict(meta_features)\n"
      ],
      "execution_count": 0,
      "outputs": []
    },
    {
      "cell_type": "code",
      "metadata": {
        "id": "soambPy0V66k",
        "colab_type": "code",
        "colab": {}
      },
      "source": [
        "stacked_averaged_models = StackingAveragedModels(base_models = (GBoost,model_xgb,rf),\n",
        "                                                 meta_model = lg)"
      ],
      "execution_count": 0,
      "outputs": []
    },
    {
      "cell_type": "code",
      "metadata": {
        "id": "fqWDyMsdZkPR",
        "colab_type": "code",
        "outputId": "ef5d0a0a-939a-4b6b-ab9f-b5eaae30ae92",
        "colab": {
          "base_uri": "https://localhost:8080/",
          "height": 68
        }
      },
      "source": [
        ""
      ],
      "execution_count": 0,
      "outputs": [
        {
          "output_type": "stream",
          "text": [
            "started\n",
            "done\n",
            "0.5089570929292698\n"
          ],
          "name": "stdout"
        }
      ]
    },
    {
      "cell_type": "code",
      "metadata": {
        "id": "zeG4xIKKZqGb",
        "colab_type": "code",
        "outputId": "13a4e781-f8b0-441d-9710-de93bf7acc1d",
        "colab": {
          "base_uri": "https://localhost:8080/",
          "height": 612
        }
      },
      "source": [
        " stacked_averaged_models.fit(rep_x, rep_y)"
      ],
      "execution_count": 0,
      "outputs": [
        {
          "output_type": "execute_result",
          "data": {
            "text/plain": [
              "StackingAveragedModels(base_models=(GradientBoostingClassifier(criterion='friedman_mse',\n",
              "                                                               init=None,\n",
              "                                                               learning_rate=0.05,\n",
              "                                                               loss='deviance',\n",
              "                                                               max_depth=5,\n",
              "                                                               max_features='sqrt',\n",
              "                                                               max_leaf_nodes=None,\n",
              "                                                               min_impurity_decrease=0.0,\n",
              "                                                               min_impurity_split=None,\n",
              "                                                               min_samples_leaf=15,\n",
              "                                                               min_samples_split=10,\n",
              "                                                               min_weight_fraction_leaf=0.0,\n",
              "                                                               n_estimators=2500,\n",
              "                                                               n_iter_no_change=None,\n",
              "                                                               preso...\n",
              "                                                           n_jobs=None,\n",
              "                                                           oob_score=False,\n",
              "                                                           random_state=None,\n",
              "                                                           verbose=0,\n",
              "                                                           warm_start=False)),\n",
              "                       meta_model=LogisticRegressionCV(Cs=10,\n",
              "                                                       class_weight='balanced',\n",
              "                                                       cv=3, dual=False,\n",
              "                                                       fit_intercept=True,\n",
              "                                                       intercept_scaling=1.0,\n",
              "                                                       l1_ratios=None,\n",
              "                                                       max_iter=100,\n",
              "                                                       multi_class='warn',\n",
              "                                                       n_jobs=None,\n",
              "                                                       penalty='l2',\n",
              "                                                       random_state=None,\n",
              "                                                       refit=True, scoring='f1',\n",
              "                                                       solver='lbfgs',\n",
              "                                                       tol=0.0001, verbose=0),\n",
              "                       n_folds=5)"
            ]
          },
          "metadata": {
            "tags": []
          },
          "execution_count": 83
        }
      ]
    },
    {
      "cell_type": "code",
      "metadata": {
        "id": "Fhh9IhRLXfAY",
        "colab_type": "code",
        "colab": {}
      },
      "source": [
        "#one class svm\n",
        "from sklearn.svm import LinearSVC\n",
        "from sklearn.calibration import CalibratedClassifierCV\n",
        "model_svm = LinearSVC(C=0.01, tol=0.0001, verbose=1, random_state=1001, max_iter=2000, dual=False)"
      ],
      "execution_count": 0,
      "outputs": []
    },
    {
      "cell_type": "code",
      "metadata": {
        "id": "v9Ha3os6i2co",
        "colab_type": "code",
        "outputId": "79d69e0e-6d2f-4b56-fbc9-b421cce88bf5",
        "colab": {
          "base_uri": "https://localhost:8080/",
          "height": 68
        }
      },
      "source": [
        "cv(model_svm)"
      ],
      "execution_count": 0,
      "outputs": [
        {
          "output_type": "stream",
          "text": [
            "started\n",
            "[LibLinear][LibLinear][LibLinear]done\n"
          ],
          "name": "stdout"
        },
        {
          "output_type": "execute_result",
          "data": {
            "text/plain": [
              "0.4676161504476835"
            ]
          },
          "metadata": {
            "tags": []
          },
          "execution_count": 171
        }
      ]
    },
    {
      "cell_type": "code",
      "metadata": {
        "id": "x0qlnAKsi7Gt",
        "colab_type": "code",
        "outputId": "189a8500-5306-4052-bbd9-470e627a3c24",
        "colab": {
          "base_uri": "https://localhost:8080/",
          "height": 190
        }
      },
      "source": [
        "sigmoid.fit(x,y)"
      ],
      "execution_count": 0,
      "outputs": [
        {
          "output_type": "stream",
          "text": [
            "[LibLinear][LibLinear][LibLinear][LibLinear][LibLinear]"
          ],
          "name": "stdout"
        },
        {
          "output_type": "execute_result",
          "data": {
            "text/plain": [
              "CalibratedClassifierCV(base_estimator=LinearSVC(C=0.01, class_weight=None,\n",
              "                                                dual=False, fit_intercept=True,\n",
              "                                                intercept_scaling=1,\n",
              "                                                loss='squared_hinge',\n",
              "                                                max_iter=2000,\n",
              "                                                multi_class='ovr', penalty='l2',\n",
              "                                                random_state=1001, tol=0.0001,\n",
              "                                                verbose=1),\n",
              "                       cv=5, method='sigmoid')"
            ]
          },
          "metadata": {
            "tags": []
          },
          "execution_count": 183
        }
      ]
    },
    {
      "cell_type": "code",
      "metadata": {
        "id": "HTnRg5kvjGTF",
        "colab_type": "code",
        "outputId": "8794f6f6-2b39-41f9-b0a5-9e00cb770834",
        "colab": {
          "base_uri": "https://localhost:8080/",
          "height": 34
        }
      },
      "source": [
        "f1_score(y_test,sigmoid.predict(x_test))"
      ],
      "execution_count": 0,
      "outputs": [
        {
          "output_type": "execute_result",
          "data": {
            "text/plain": [
              "0.45692883895131087"
            ]
          },
          "metadata": {
            "tags": []
          },
          "execution_count": 184
        }
      ]
    },
    {
      "cell_type": "code",
      "metadata": {
        "id": "8VFyfiGXjOZN",
        "colab_type": "code",
        "colab": {}
      },
      "source": [
        " sigmoid = CalibratedClassifierCV(model_svm, cv=5, method='sigmoid')"
      ],
      "execution_count": 0,
      "outputs": []
    },
    {
      "cell_type": "code",
      "metadata": {
        "id": "Rxmm-EplkOqm",
        "colab_type": "code",
        "outputId": "8f7bf067-c87e-471f-8d14-78f6d31d79f3",
        "colab": {
          "base_uri": "https://localhost:8080/",
          "height": 88
        }
      },
      "source": [
        "cv(sigmoid)"
      ],
      "execution_count": 0,
      "outputs": [
        {
          "output_type": "stream",
          "text": [
            "started\n",
            "[LibLinear][LibLinear][LibLinear][LibLinear][LibLinear][LibLinear][LibLinear][LibLinear][LibLinear][LibLinear][LibLinear][LibLinear][LibLinear][LibLinear][LibLinear]done\n"
          ],
          "name": "stdout"
        },
        {
          "output_type": "execute_result",
          "data": {
            "text/plain": [
              "0.4089576680709139"
            ]
          },
          "metadata": {
            "tags": []
          },
          "execution_count": 182
        }
      ]
    },
    {
      "cell_type": "code",
      "metadata": {
        "id": "w9J8ox00xpZh",
        "colab_type": "code",
        "colab": {}
      },
      "source": [
        "#neural networks\n",
        "hidden_units=100\n",
        "learning_rate=0.01\n",
        "hidden_layer_act='tanh'\n",
        "output_layer_act='sigmoid'\n",
        "no_epochs=20"
      ],
      "execution_count": 0,
      "outputs": []
    },
    {
      "cell_type": "code",
      "metadata": {
        "id": "8QcQU5ARyPfG",
        "colab_type": "code",
        "colab": {}
      },
      "source": [
        "import numpy as np\n",
        "from keras.callbacks import Callback\n",
        "from sklearn.metrics import confusion_matrix, f1_score, precision_score, recall_score\n",
        "class Metrics(Callback):\n",
        "  def on_train_begin(self, logs={}):\n",
        "    \n",
        "  \n",
        "  \n",
        "    self.val_f1s = []\n",
        "\n",
        "    self.val_recalls = []\n",
        "    self.val_precisions = []\n",
        "\n",
        "  def on_epoch_end(self, epoch, logs={}):\n",
        "    \n",
        "    \n",
        "  \n",
        "    val_predict = (np.asarray(self.model.predict(self.validation_data[0]))).round()\n",
        "    val_targ = self.validation_data[1]\n",
        "    _val_f1 = f1_score(val_targ, val_predict)\n",
        "    _val_recall = recall_score(val_targ, val_predict)\n",
        "    _val_precision = precision_score(val_targ, val_predict)\n",
        "    self.val_f1s.append(_val_f1)\n",
        "    self.val_recalls.append(_val_recall)\n",
        "    self.val_precisions.append(_val_precision)\n",
        "    print (\" — val_f1: %f — val_precision: %f — val_recall %f\"%(_val_f1, _val_precision, _val_recall))\n",
        "    return\n",
        "\n",
        "metrics = Metrics()"
      ],
      "execution_count": 0,
      "outputs": []
    },
    {
      "cell_type": "code",
      "metadata": {
        "id": "qj83rOsTxusG",
        "colab_type": "code",
        "colab": {}
      },
      "source": [
        "model = Sequential()\n",
        "model.add(Dense(300, input_dim=x.shape[1], activation=hidden_layer_act))\n",
        "model.add(Dropout(0.3))\n",
        "model.add(Dense(hidden_units, activation=hidden_layer_act))\n",
        "model.add(Dropout(0.3))\n",
        "model.add(Dense(1, activation=output_layer_act))\n",
        "sgd=optimizers.SGD(lr=learning_rate)\n",
        "model.compile(loss='binary_crossentropy',optimizer=sgd, metrics=['acc'])"
      ],
      "execution_count": 0,
      "outputs": []
    },
    {
      "cell_type": "code",
      "metadata": {
        "id": "6oAtpSSpyUdE",
        "colab_type": "code",
        "outputId": "8fb25262-b5be-4ed5-e9c1-834b0283f728",
        "colab": {
          "base_uri": "https://localhost:8080/",
          "height": 1000
        }
      },
      "source": [
        "model.fit(x, y, epochs=no_epochs, batch_size=256,  verbose=2,callbacks=[metrics],validation_data=(x_test,y_test))"
      ],
      "execution_count": 0,
      "outputs": [
        {
          "output_type": "stream",
          "text": [
            "Train on 81240 samples, validate on 34818 samples\n",
            "Epoch 1/20\n",
            " - 2s - loss: 0.1644 - acc: 0.9936 - val_loss: 0.0518 - val_acc: 0.9945\n",
            " — val_f1: 0.000000 — val_precision: 0.000000 — val_recall 0.000000\n",
            "Epoch 2/20\n",
            " - 2s - loss: 0.0420 - acc: 0.9946 - val_loss: 0.0353 - val_acc: 0.9946\n",
            " — val_f1: 0.030928 — val_precision: 1.000000 — val_recall 0.015707\n",
            "Epoch 3/20\n",
            " - 2s - loss: 0.0334 - acc: 0.9947 - val_loss: 0.0313 - val_acc: 0.9947\n",
            " — val_f1: 0.080402 — val_precision: 1.000000 — val_recall 0.041885\n",
            "Epoch 4/20\n",
            " - 1s - loss: 0.0307 - acc: 0.9949 - val_loss: 0.0296 - val_acc: 0.9948\n",
            " — val_f1: 0.099502 — val_precision: 1.000000 — val_recall 0.052356\n",
            "Epoch 5/20\n",
            " - 2s - loss: 0.0294 - acc: 0.9950 - val_loss: 0.0286 - val_acc: 0.9949\n",
            " — val_f1: 0.136585 — val_precision: 1.000000 — val_recall 0.073298\n",
            "Epoch 6/20\n",
            " - 2s - loss: 0.0285 - acc: 0.9951 - val_loss: 0.0280 - val_acc: 0.9950\n",
            " — val_f1: 0.172249 — val_precision: 1.000000 — val_recall 0.094241\n",
            "Epoch 7/20\n",
            " - 2s - loss: 0.0278 - acc: 0.9952 - val_loss: 0.0275 - val_acc: 0.9951\n",
            " — val_f1: 0.197183 — val_precision: 0.954545 — val_recall 0.109948\n",
            "Epoch 8/20\n",
            " - 1s - loss: 0.0272 - acc: 0.9953 - val_loss: 0.0271 - val_acc: 0.9951\n",
            " — val_f1: 0.213953 — val_precision: 0.958333 — val_recall 0.120419\n",
            "Epoch 9/20\n",
            " - 2s - loss: 0.0271 - acc: 0.9953 - val_loss: 0.0268 - val_acc: 0.9951\n",
            " — val_f1: 0.213953 — val_precision: 0.958333 — val_recall 0.120419\n",
            "Epoch 10/20\n",
            " - 2s - loss: 0.0269 - acc: 0.9953 - val_loss: 0.0265 - val_acc: 0.9952\n",
            " — val_f1: 0.230415 — val_precision: 0.961538 — val_recall 0.130890\n",
            "Epoch 11/20\n",
            " - 2s - loss: 0.0263 - acc: 0.9953 - val_loss: 0.0262 - val_acc: 0.9952\n",
            " — val_f1: 0.230415 — val_precision: 0.961538 — val_recall 0.130890\n",
            "Epoch 12/20\n",
            " - 2s - loss: 0.0264 - acc: 0.9954 - val_loss: 0.0260 - val_acc: 0.9952\n",
            " — val_f1: 0.238532 — val_precision: 0.962963 — val_recall 0.136126\n",
            "Epoch 13/20\n",
            " - 2s - loss: 0.0263 - acc: 0.9954 - val_loss: 0.0258 - val_acc: 0.9953\n",
            " — val_f1: 0.246575 — val_precision: 0.964286 — val_recall 0.141361\n",
            "Epoch 14/20\n",
            " - 2s - loss: 0.0259 - acc: 0.9954 - val_loss: 0.0256 - val_acc: 0.9953\n",
            " — val_f1: 0.254545 — val_precision: 0.965517 — val_recall 0.146597\n",
            "Epoch 15/20\n",
            " - 2s - loss: 0.0259 - acc: 0.9955 - val_loss: 0.0254 - val_acc: 0.9954\n",
            " — val_f1: 0.285714 — val_precision: 0.969697 — val_recall 0.167539\n",
            "Epoch 16/20\n",
            " - 2s - loss: 0.0256 - acc: 0.9955 - val_loss: 0.0253 - val_acc: 0.9954\n",
            " — val_f1: 0.299559 — val_precision: 0.944444 — val_recall 0.178010\n",
            "Epoch 17/20\n",
            " - 2s - loss: 0.0256 - acc: 0.9955 - val_loss: 0.0251 - val_acc: 0.9955\n",
            " — val_f1: 0.307018 — val_precision: 0.945946 — val_recall 0.183246\n",
            "Epoch 18/20\n",
            " - 2s - loss: 0.0253 - acc: 0.9955 - val_loss: 0.0250 - val_acc: 0.9955\n",
            " — val_f1: 0.321739 — val_precision: 0.948718 — val_recall 0.193717\n",
            "Epoch 19/20\n",
            " - 2s - loss: 0.0253 - acc: 0.9956 - val_loss: 0.0249 - val_acc: 0.9955\n",
            " — val_f1: 0.321739 — val_precision: 0.948718 — val_recall 0.193717\n",
            "Epoch 20/20\n",
            " - 2s - loss: 0.0251 - acc: 0.9956 - val_loss: 0.0248 - val_acc: 0.9955\n",
            " — val_f1: 0.329004 — val_precision: 0.950000 — val_recall 0.198953\n"
          ],
          "name": "stdout"
        },
        {
          "output_type": "execute_result",
          "data": {
            "text/plain": [
              "<keras.callbacks.History at 0x7f6c880d0668>"
            ]
          },
          "metadata": {
            "tags": []
          },
          "execution_count": 118
        }
      ]
    },
    {
      "cell_type": "code",
      "metadata": {
        "id": "yLS2xWLh0hlQ",
        "colab_type": "code",
        "colab": {}
      },
      "source": [
        "predict=model.model.predict_classes(test_hidden)"
      ],
      "execution_count": 0,
      "outputs": []
    },
    {
      "cell_type": "code",
      "metadata": {
        "id": "cGYfiWmj02OZ",
        "colab_type": "code",
        "outputId": "da9121fd-fe7b-4907-8467-512f536ec8f1",
        "colab": {
          "base_uri": "https://localhost:8080/",
          "height": 34
        }
      },
      "source": [
        "predict[:,0]"
      ],
      "execution_count": 0,
      "outputs": [
        {
          "output_type": "execute_result",
          "data": {
            "text/plain": [
              "array([0, 0, 0, ..., 0, 0, 0], dtype=int32)"
            ]
          },
          "metadata": {
            "tags": []
          },
          "execution_count": 112
        }
      ]
    },
    {
      "cell_type": "code",
      "metadata": {
        "id": "DmkzVQ9L4IGf",
        "colab_type": "code",
        "colab": {}
      },
      "source": [
        "from sklearn.ensemble import AdaBoostClassifier\n",
        "clf = AdaBoostClassifier(n_estimators=1000, random_state=0,learning_rate=0.01)"
      ],
      "execution_count": 0,
      "outputs": []
    },
    {
      "cell_type": "code",
      "metadata": {
        "id": "PoslB5eP6wRQ",
        "colab_type": "code",
        "outputId": "bfa5417f-00ae-4d3d-f897-2223a4318f4e",
        "colab": {
          "base_uri": "https://localhost:8080/",
          "height": 68
        }
      },
      "source": [
        "cv(clf)"
      ],
      "execution_count": 0,
      "outputs": [
        {
          "output_type": "stream",
          "text": [
            "started\n",
            "done\n"
          ],
          "name": "stdout"
        },
        {
          "output_type": "execute_result",
          "data": {
            "text/plain": [
              "0.41361993767175265"
            ]
          },
          "metadata": {
            "tags": []
          },
          "execution_count": 124
        }
      ]
    },
    {
      "cell_type": "markdown",
      "metadata": {
        "id": "B77u3IS9AaVG",
        "colab_type": "text"
      },
      "source": [
        "ENOUGH OF AUTOENCODERS"
      ]
    },
    {
      "cell_type": "code",
      "metadata": {
        "id": "8IXaczG568ch",
        "colab_type": "code",
        "outputId": "38461975-f48a-4cb5-a7a2-5e3910d0276c",
        "colab": {
          "base_uri": "https://localhost:8080/",
          "height": 187
        }
      },
      "source": [
        "comb.columns"
      ],
      "execution_count": 0,
      "outputs": [
        {
          "output_type": "execute_result",
          "data": {
            "text/plain": [
              "Index(['1', '2', '3', '5', '8', '9', 'sum_40', 'loan_purpose_B12',\n",
              "       'loan_purpose_C86', 'source_Y', 'source_Z', 'Browning-Hart',\n",
              "       'Chapman-Mcmahon', 'Cole, Brooks and Vincent', 'Edwards-Hoffman',\n",
              "       'Martinez, Duffy and Bird', 'Miller, Mcclure and Allen',\n",
              "       'Nicholson Group', 'OTHER', 'Richards-Walters', 'Richardson Ltd',\n",
              "       'Romero, Woods and Johnson', 'Sanchez, Hays and Wilkerson',\n",
              "       'Sanchez-Robinson', 'Suarez Inc', 'Swanson, Newton and Miller',\n",
              "       'Taylor, Hunt and Rodriguez', 'Thornton-Davis',\n",
              "       'Turner, Baldwin and Rhodes'],\n",
              "      dtype='object')"
            ]
          },
          "metadata": {
            "tags": []
          },
          "execution_count": 128
        }
      ]
    },
    {
      "cell_type": "code",
      "metadata": {
        "id": "0MB1zmCCAko4",
        "colab_type": "code",
        "outputId": "81ab1d46-525c-4e05-a54f-1be5cc8fd290",
        "colab": {
          "base_uri": "https://localhost:8080/",
          "height": 436
        }
      },
      "source": [
        "comb.describe()"
      ],
      "execution_count": 0,
      "outputs": [
        {
          "output_type": "execute_result",
          "data": {
            "text/html": [
              "<div>\n",
              "<style scoped>\n",
              "    .dataframe tbody tr th:only-of-type {\n",
              "        vertical-align: middle;\n",
              "    }\n",
              "\n",
              "    .dataframe tbody tr th {\n",
              "        vertical-align: top;\n",
              "    }\n",
              "\n",
              "    .dataframe thead th {\n",
              "        text-align: right;\n",
              "    }\n",
              "</style>\n",
              "<table border=\"1\" class=\"dataframe\">\n",
              "  <thead>\n",
              "    <tr style=\"text-align: right;\">\n",
              "      <th></th>\n",
              "      <th>1</th>\n",
              "      <th>2</th>\n",
              "      <th>3</th>\n",
              "      <th>5</th>\n",
              "      <th>8</th>\n",
              "      <th>9</th>\n",
              "      <th>sum_40</th>\n",
              "      <th>loan_purpose_B12</th>\n",
              "      <th>loan_purpose_C86</th>\n",
              "      <th>source_Y</th>\n",
              "      <th>source_Z</th>\n",
              "      <th>Browning-Hart</th>\n",
              "      <th>Chapman-Mcmahon</th>\n",
              "      <th>Cole, Brooks and Vincent</th>\n",
              "      <th>Edwards-Hoffman</th>\n",
              "      <th>Martinez, Duffy and Bird</th>\n",
              "      <th>Miller, Mcclure and Allen</th>\n",
              "      <th>Nicholson Group</th>\n",
              "      <th>OTHER</th>\n",
              "      <th>Richards-Walters</th>\n",
              "      <th>Richardson Ltd</th>\n",
              "      <th>Romero, Woods and Johnson</th>\n",
              "      <th>Sanchez, Hays and Wilkerson</th>\n",
              "      <th>Sanchez-Robinson</th>\n",
              "      <th>Suarez Inc</th>\n",
              "      <th>Swanson, Newton and Miller</th>\n",
              "      <th>Taylor, Hunt and Rodriguez</th>\n",
              "      <th>Thornton-Davis</th>\n",
              "      <th>Turner, Baldwin and Rhodes</th>\n",
              "    </tr>\n",
              "  </thead>\n",
              "  <tbody>\n",
              "    <tr>\n",
              "      <th>count</th>\n",
              "      <td>1.160580e+05</td>\n",
              "      <td>1.160580e+05</td>\n",
              "      <td>1.160580e+05</td>\n",
              "      <td>1.160580e+05</td>\n",
              "      <td>1.160580e+05</td>\n",
              "      <td>1.160580e+05</td>\n",
              "      <td>116058.000000</td>\n",
              "      <td>116058.000000</td>\n",
              "      <td>116058.000000</td>\n",
              "      <td>116058.000000</td>\n",
              "      <td>116058.000000</td>\n",
              "      <td>116058.000000</td>\n",
              "      <td>116058.000000</td>\n",
              "      <td>116058.000000</td>\n",
              "      <td>116058.000000</td>\n",
              "      <td>116058.000000</td>\n",
              "      <td>116058.000000</td>\n",
              "      <td>116058.000000</td>\n",
              "      <td>116058.000000</td>\n",
              "      <td>116058.000000</td>\n",
              "      <td>116058.000000</td>\n",
              "      <td>116058.000000</td>\n",
              "      <td>116058.000000</td>\n",
              "      <td>116058.000000</td>\n",
              "      <td>116058.000000</td>\n",
              "      <td>116058.000000</td>\n",
              "      <td>116058.000000</td>\n",
              "      <td>116058.000000</td>\n",
              "      <td>116058.000000</td>\n",
              "    </tr>\n",
              "    <tr>\n",
              "      <th>mean</th>\n",
              "      <td>-6.918666e-16</td>\n",
              "      <td>-4.474163e-17</td>\n",
              "      <td>1.044304e-15</td>\n",
              "      <td>-4.810828e-14</td>\n",
              "      <td>4.258328e-17</td>\n",
              "      <td>6.875211e-14</td>\n",
              "      <td>0.000138</td>\n",
              "      <td>0.253175</td>\n",
              "      <td>0.243094</td>\n",
              "      <td>0.323580</td>\n",
              "      <td>0.126196</td>\n",
              "      <td>0.274449</td>\n",
              "      <td>0.003343</td>\n",
              "      <td>0.014148</td>\n",
              "      <td>0.041850</td>\n",
              "      <td>0.040626</td>\n",
              "      <td>0.027211</td>\n",
              "      <td>0.018232</td>\n",
              "      <td>0.428226</td>\n",
              "      <td>0.012571</td>\n",
              "      <td>0.004076</td>\n",
              "      <td>0.006462</td>\n",
              "      <td>0.007350</td>\n",
              "      <td>0.010279</td>\n",
              "      <td>0.015423</td>\n",
              "      <td>0.059229</td>\n",
              "      <td>0.010848</td>\n",
              "      <td>0.005609</td>\n",
              "      <td>0.015906</td>\n",
              "    </tr>\n",
              "    <tr>\n",
              "      <th>std</th>\n",
              "      <td>1.000004e+00</td>\n",
              "      <td>1.000004e+00</td>\n",
              "      <td>1.000004e+00</td>\n",
              "      <td>1.000004e+00</td>\n",
              "      <td>1.000004e+00</td>\n",
              "      <td>1.000004e+00</td>\n",
              "      <td>0.011741</td>\n",
              "      <td>0.434832</td>\n",
              "      <td>0.428953</td>\n",
              "      <td>0.467844</td>\n",
              "      <td>0.332071</td>\n",
              "      <td>0.446238</td>\n",
              "      <td>0.057724</td>\n",
              "      <td>0.118102</td>\n",
              "      <td>0.200247</td>\n",
              "      <td>0.197424</td>\n",
              "      <td>0.162697</td>\n",
              "      <td>0.133791</td>\n",
              "      <td>0.494824</td>\n",
              "      <td>0.111415</td>\n",
              "      <td>0.063710</td>\n",
              "      <td>0.080129</td>\n",
              "      <td>0.085416</td>\n",
              "      <td>0.100865</td>\n",
              "      <td>0.123230</td>\n",
              "      <td>0.236054</td>\n",
              "      <td>0.103588</td>\n",
              "      <td>0.074685</td>\n",
              "      <td>0.125112</td>\n",
              "    </tr>\n",
              "    <tr>\n",
              "      <th>min</th>\n",
              "      <td>-3.552695e+00</td>\n",
              "      <td>-3.056524e+00</td>\n",
              "      <td>-1.824016e+01</td>\n",
              "      <td>-4.527618e-02</td>\n",
              "      <td>-3.138587e+00</td>\n",
              "      <td>-5.416049e-02</td>\n",
              "      <td>0.000000</td>\n",
              "      <td>0.000000</td>\n",
              "      <td>0.000000</td>\n",
              "      <td>0.000000</td>\n",
              "      <td>0.000000</td>\n",
              "      <td>0.000000</td>\n",
              "      <td>0.000000</td>\n",
              "      <td>0.000000</td>\n",
              "      <td>0.000000</td>\n",
              "      <td>0.000000</td>\n",
              "      <td>0.000000</td>\n",
              "      <td>0.000000</td>\n",
              "      <td>0.000000</td>\n",
              "      <td>0.000000</td>\n",
              "      <td>0.000000</td>\n",
              "      <td>0.000000</td>\n",
              "      <td>0.000000</td>\n",
              "      <td>0.000000</td>\n",
              "      <td>0.000000</td>\n",
              "      <td>0.000000</td>\n",
              "      <td>0.000000</td>\n",
              "      <td>0.000000</td>\n",
              "      <td>0.000000</td>\n",
              "    </tr>\n",
              "    <tr>\n",
              "      <th>25%</th>\n",
              "      <td>-6.032936e-01</td>\n",
              "      <td>-7.956517e-01</td>\n",
              "      <td>-4.483900e-01</td>\n",
              "      <td>-4.527618e-02</td>\n",
              "      <td>-5.097096e-01</td>\n",
              "      <td>-5.416049e-02</td>\n",
              "      <td>0.000000</td>\n",
              "      <td>0.000000</td>\n",
              "      <td>0.000000</td>\n",
              "      <td>0.000000</td>\n",
              "      <td>0.000000</td>\n",
              "      <td>0.000000</td>\n",
              "      <td>0.000000</td>\n",
              "      <td>0.000000</td>\n",
              "      <td>0.000000</td>\n",
              "      <td>0.000000</td>\n",
              "      <td>0.000000</td>\n",
              "      <td>0.000000</td>\n",
              "      <td>0.000000</td>\n",
              "      <td>0.000000</td>\n",
              "      <td>0.000000</td>\n",
              "      <td>0.000000</td>\n",
              "      <td>0.000000</td>\n",
              "      <td>0.000000</td>\n",
              "      <td>0.000000</td>\n",
              "      <td>0.000000</td>\n",
              "      <td>0.000000</td>\n",
              "      <td>0.000000</td>\n",
              "      <td>0.000000</td>\n",
              "    </tr>\n",
              "    <tr>\n",
              "      <th>50%</th>\n",
              "      <td>2.641773e-01</td>\n",
              "      <td>2.648380e-02</td>\n",
              "      <td>2.860240e-01</td>\n",
              "      <td>-4.527618e-02</td>\n",
              "      <td>-9.500576e-02</td>\n",
              "      <td>-5.416049e-02</td>\n",
              "      <td>0.000000</td>\n",
              "      <td>0.000000</td>\n",
              "      <td>0.000000</td>\n",
              "      <td>0.000000</td>\n",
              "      <td>0.000000</td>\n",
              "      <td>0.000000</td>\n",
              "      <td>0.000000</td>\n",
              "      <td>0.000000</td>\n",
              "      <td>0.000000</td>\n",
              "      <td>0.000000</td>\n",
              "      <td>0.000000</td>\n",
              "      <td>0.000000</td>\n",
              "      <td>0.000000</td>\n",
              "      <td>0.000000</td>\n",
              "      <td>0.000000</td>\n",
              "      <td>0.000000</td>\n",
              "      <td>0.000000</td>\n",
              "      <td>0.000000</td>\n",
              "      <td>0.000000</td>\n",
              "      <td>0.000000</td>\n",
              "      <td>0.000000</td>\n",
              "      <td>0.000000</td>\n",
              "      <td>0.000000</td>\n",
              "    </tr>\n",
              "    <tr>\n",
              "      <th>75%</th>\n",
              "      <td>7.268285e-01</td>\n",
              "      <td>8.486193e-01</td>\n",
              "      <td>7.124579e-01</td>\n",
              "      <td>-4.527618e-02</td>\n",
              "      <td>3.395785e-01</td>\n",
              "      <td>-5.416049e-02</td>\n",
              "      <td>0.000000</td>\n",
              "      <td>1.000000</td>\n",
              "      <td>0.000000</td>\n",
              "      <td>1.000000</td>\n",
              "      <td>0.000000</td>\n",
              "      <td>1.000000</td>\n",
              "      <td>0.000000</td>\n",
              "      <td>0.000000</td>\n",
              "      <td>0.000000</td>\n",
              "      <td>0.000000</td>\n",
              "      <td>0.000000</td>\n",
              "      <td>0.000000</td>\n",
              "      <td>1.000000</td>\n",
              "      <td>0.000000</td>\n",
              "      <td>0.000000</td>\n",
              "      <td>0.000000</td>\n",
              "      <td>0.000000</td>\n",
              "      <td>0.000000</td>\n",
              "      <td>0.000000</td>\n",
              "      <td>0.000000</td>\n",
              "      <td>0.000000</td>\n",
              "      <td>0.000000</td>\n",
              "      <td>0.000000</td>\n",
              "    </tr>\n",
              "    <tr>\n",
              "      <th>max</th>\n",
              "      <td>1.709962e+00</td>\n",
              "      <td>3.417793e+00</td>\n",
              "      <td>1.660089e+00</td>\n",
              "      <td>7.855011e+01</td>\n",
              "      <td>7.757966e+01</td>\n",
              "      <td>1.051727e+02</td>\n",
              "      <td>1.000000</td>\n",
              "      <td>1.000000</td>\n",
              "      <td>1.000000</td>\n",
              "      <td>1.000000</td>\n",
              "      <td>1.000000</td>\n",
              "      <td>1.000000</td>\n",
              "      <td>1.000000</td>\n",
              "      <td>1.000000</td>\n",
              "      <td>1.000000</td>\n",
              "      <td>1.000000</td>\n",
              "      <td>1.000000</td>\n",
              "      <td>1.000000</td>\n",
              "      <td>1.000000</td>\n",
              "      <td>1.000000</td>\n",
              "      <td>1.000000</td>\n",
              "      <td>1.000000</td>\n",
              "      <td>1.000000</td>\n",
              "      <td>1.000000</td>\n",
              "      <td>1.000000</td>\n",
              "      <td>1.000000</td>\n",
              "      <td>1.000000</td>\n",
              "      <td>1.000000</td>\n",
              "      <td>1.000000</td>\n",
              "    </tr>\n",
              "  </tbody>\n",
              "</table>\n",
              "</div>"
            ],
            "text/plain": [
              "                  1             2  ...  Thornton-Davis  Turner, Baldwin and Rhodes\n",
              "count  1.160580e+05  1.160580e+05  ...   116058.000000               116058.000000\n",
              "mean  -6.918666e-16 -4.474163e-17  ...        0.005609                    0.015906\n",
              "std    1.000004e+00  1.000004e+00  ...        0.074685                    0.125112\n",
              "min   -3.552695e+00 -3.056524e+00  ...        0.000000                    0.000000\n",
              "25%   -6.032936e-01 -7.956517e-01  ...        0.000000                    0.000000\n",
              "50%    2.641773e-01  2.648380e-02  ...        0.000000                    0.000000\n",
              "75%    7.268285e-01  8.486193e-01  ...        0.000000                    0.000000\n",
              "max    1.709962e+00  3.417793e+00  ...        1.000000                    1.000000\n",
              "\n",
              "[8 rows x 29 columns]"
            ]
          },
          "metadata": {
            "tags": []
          },
          "execution_count": 126
        }
      ]
    },
    {
      "cell_type": "code",
      "metadata": {
        "id": "Sl_nJ_ebA2ln",
        "colab_type": "code",
        "outputId": "4bfc3f42-2de3-4476-b312-fd97d5a8f80b",
        "colab": {
          "base_uri": "https://localhost:8080/",
          "height": 300
        }
      },
      "source": [
        "sln.distplot(comb['1'])"
      ],
      "execution_count": 0,
      "outputs": [
        {
          "output_type": "execute_result",
          "data": {
            "text/plain": [
              "<matplotlib.axes._subplots.AxesSubplot at 0x7f6c88474d30>"
            ]
          },
          "metadata": {
            "tags": []
          },
          "execution_count": 129
        },
        {
          "output_type": "display_data",
          "data": {
            "image/png": "[encoded data removed]",
            "text/plain": [
              "<Figure size 432x288 with 1 Axes>"
            ]
          },
          "metadata": {
            "tags": []
          }
        }
      ]
    },
    {
      "cell_type": "code",
      "metadata": {
        "id": "WtfFjLlXBCoX",
        "colab_type": "code",
        "outputId": "fd594a69-08be-4955-e4d8-46075c00ae0e",
        "colab": {
          "base_uri": "https://localhost:8080/",
          "height": 300
        }
      },
      "source": [
        "sln.distplot(comb_test['1'])"
      ],
      "execution_count": 0,
      "outputs": [
        {
          "output_type": "execute_result",
          "data": {
            "text/plain": [
              "<matplotlib.axes._subplots.AxesSubplot at 0x7f6c87931748>"
            ]
          },
          "metadata": {
            "tags": []
          },
          "execution_count": 130
        },
        {
          "output_type": "display_data",
          "data": {
            "image/png": "[encoded data removed]",
            "text/plain": [
              "<Figure size 432x288 with 1 Axes>"
            ]
          },
          "metadata": {
            "tags": []
          }
        }
      ]
    },
    {
      "cell_type": "code",
      "metadata": {
        "id": "TJVhm4goBe8a",
        "colab_type": "code",
        "outputId": "a35a2ce2-dfa2-4969-d4c1-aa95aa327437",
        "colab": {
          "base_uri": "https://localhost:8080/",
          "height": 300
        }
      },
      "source": [
        "sln.distplot(comb['2'])"
      ],
      "execution_count": 0,
      "outputs": [
        {
          "output_type": "execute_result",
          "data": {
            "text/plain": [
              "<matplotlib.axes._subplots.AxesSubplot at 0x7f6c894ba358>"
            ]
          },
          "metadata": {
            "tags": []
          },
          "execution_count": 131
        },
        {
          "output_type": "display_data",
          "data": {
            "image/png": "[encoded data removed]",
            "text/plain": [
              "<Figure size 432x288 with 1 Axes>"
            ]
          },
          "metadata": {
            "tags": []
          }
        }
      ]
    },
    {
      "cell_type": "code",
      "metadata": {
        "id": "wFibxma1BoZC",
        "colab_type": "code",
        "outputId": "7f5c2ec1-9040-4e63-d056-34a983de212d",
        "colab": {
          "base_uri": "https://localhost:8080/",
          "height": 300
        }
      },
      "source": [
        "sln.distplot(comb_test['2'])"
      ],
      "execution_count": 0,
      "outputs": [
        {
          "output_type": "execute_result",
          "data": {
            "text/plain": [
              "<matplotlib.axes._subplots.AxesSubplot at 0x7f6c8783f080>"
            ]
          },
          "metadata": {
            "tags": []
          },
          "execution_count": 132
        },
        {
          "output_type": "display_data",
          "data": {
            "image/png": "[encoded data removed]",
            "text/plain": [
              "<Figure size 432x288 with 1 Axes>"
            ]
          },
          "metadata": {
            "tags": []
          }
        }
      ]
    },
    {
      "cell_type": "code",
      "metadata": {
        "id": "ag9a1NG9Bsp3",
        "colab_type": "code",
        "outputId": "b5ee6564-2904-43e1-80e7-20feddc68875",
        "colab": {
          "base_uri": "https://localhost:8080/",
          "height": 300
        }
      },
      "source": [
        "sln.distplot(comb_test['3'])"
      ],
      "execution_count": 0,
      "outputs": [
        {
          "output_type": "execute_result",
          "data": {
            "text/plain": [
              "<matplotlib.axes._subplots.AxesSubplot at 0x7f6c87842128>"
            ]
          },
          "metadata": {
            "tags": []
          },
          "execution_count": 133
        },
        {
          "output_type": "display_data",
          "data": {
            "image/png": "[encoded data removed]",
            "text/plain": [
              "<Figure size 432x288 with 1 Axes>"
            ]
          },
          "metadata": {
            "tags": []
          }
        }
      ]
    },
    {
      "cell_type": "code",
      "metadata": {
        "id": "XXS1JqPeB1jZ",
        "colab_type": "code",
        "outputId": "0e683c57-b9d7-4938-b32b-62348110d2ea",
        "colab": {
          "base_uri": "https://localhost:8080/",
          "height": 300
        }
      },
      "source": [
        "sln.distplot((comb['3']))"
      ],
      "execution_count": 0,
      "outputs": [
        {
          "output_type": "execute_result",
          "data": {
            "text/plain": [
              "<matplotlib.axes._subplots.AxesSubplot at 0x7f6c85517d68>"
            ]
          },
          "metadata": {
            "tags": []
          },
          "execution_count": 158
        },
        {
          "output_type": "display_data",
          "data": {
            "image/png": "[encoded data removed]",
            "text/plain": [
              "<Figure size 432x288 with 1 Axes>"
            ]
          },
          "metadata": {
            "tags": []
          }
        }
      ]
    },
    {
      "cell_type": "code",
      "metadata": {
        "id": "Q4CaPcHwB32N",
        "colab_type": "code",
        "outputId": "10806795-95a7-4b67-fc46-04c35120277f",
        "colab": {
          "base_uri": "https://localhost:8080/",
          "height": 300
        }
      },
      "source": [
        "sln.distplot(comb['8'])"
      ],
      "execution_count": 0,
      "outputs": [
        {
          "output_type": "execute_result",
          "data": {
            "text/plain": [
              "<matplotlib.axes._subplots.AxesSubplot at 0x7f6c8736e358>"
            ]
          },
          "metadata": {
            "tags": []
          },
          "execution_count": 137
        },
        {
          "output_type": "display_data",
          "data": {
            "image/png": "[encoded data removed]",
            "text/plain": [
              "<Figure size 432x288 with 1 Axes>"
            ]
          },
          "metadata": {
            "tags": []
          }
        }
      ]
    },
    {
      "cell_type": "code",
      "metadata": {
        "id": "VON-aZOdB-5X",
        "colab_type": "code",
        "outputId": "1b67241a-151e-4313-a6cb-75de256f498b",
        "colab": {
          "base_uri": "https://localhost:8080/",
          "height": 300
        }
      },
      "source": [
        "sln.distplot(comb_test['8'])"
      ],
      "execution_count": 0,
      "outputs": [
        {
          "output_type": "execute_result",
          "data": {
            "text/plain": [
              "<matplotlib.axes._subplots.AxesSubplot at 0x7f6c858d1630>"
            ]
          },
          "metadata": {
            "tags": []
          },
          "execution_count": 153
        },
        {
          "output_type": "display_data",
          "data": {
            "image/png": "[encoded data removed]",
            "text/plain": [
              "<Figure size 432x288 with 1 Axes>"
            ]
          },
          "metadata": {
            "tags": []
          }
        }
      ]
    },
    {
      "cell_type": "code",
      "metadata": {
        "id": "i3RHJTrsCCAS",
        "colab_type": "code",
        "outputId": "27953765-da75-4592-d287-57781c60caa6",
        "colab": {
          "base_uri": "https://localhost:8080/",
          "height": 300
        }
      },
      "source": [
        "sln.distplot(comb_test['9'])"
      ],
      "execution_count": 0,
      "outputs": [
        {
          "output_type": "execute_result",
          "data": {
            "text/plain": [
              "<matplotlib.axes._subplots.AxesSubplot at 0x7f6c859a7cc0>"
            ]
          },
          "metadata": {
            "tags": []
          },
          "execution_count": 154
        },
        {
          "output_type": "display_data",
          "data": {
            "image/png": "[encoded data removed]",
            "text/plain": [
              "<Figure size 432x288 with 1 Axes>"
            ]
          },
          "metadata": {
            "tags": []
          }
        }
      ]
    },
    {
      "cell_type": "code",
      "metadata": {
        "id": "6ReO4Mg0CXB0",
        "colab_type": "code",
        "outputId": "03d70793-eb7a-468f-c3d8-8a52f76dacdf",
        "colab": {
          "base_uri": "https://localhost:8080/",
          "height": 300
        }
      },
      "source": [
        "sln.distplot(comb['9'])"
      ],
      "execution_count": 0,
      "outputs": [
        {
          "output_type": "execute_result",
          "data": {
            "text/plain": [
              "<matplotlib.axes._subplots.AxesSubplot at 0x7f6c858d11d0>"
            ]
          },
          "metadata": {
            "tags": []
          },
          "execution_count": 155
        },
        {
          "output_type": "display_data",
          "data": {
            "image/png": "[encoded data removed]",
            "text/plain": [
              "<Figure size 432x288 with 1 Axes>"
            ]
          },
          "metadata": {
            "tags": []
          }
        }
      ]
    },
    {
      "cell_type": "code",
      "metadata": {
        "id": "UoSHzisFDQju",
        "colab_type": "code",
        "outputId": "3f657966-cf42-440a-d868-b429ba2c64c0",
        "colab": {
          "base_uri": "https://localhost:8080/",
          "height": 301
        }
      },
      "source": [
        "#drop column 9 and column 5 and sum 40\n",
        "sln.distplot(((comb['sum_40'])*10)**2)"
      ],
      "execution_count": 0,
      "outputs": [
        {
          "output_type": "execute_result",
          "data": {
            "text/plain": [
              "<matplotlib.axes._subplots.AxesSubplot at 0x7f6c8545c7b8>"
            ]
          },
          "metadata": {
            "tags": []
          },
          "execution_count": 163
        },
        {
          "output_type": "display_data",
          "data": {
            "image/png": "[encoded data removed]",
            "text/plain": [
              "<Figure size 432x288 with 1 Axes>"
            ]
          },
          "metadata": {
            "tags": []
          }
        }
      ]
    },
    {
      "cell_type": "code",
      "metadata": {
        "id": "QKNznWgTFdMd",
        "colab_type": "code",
        "colab": {}
      },
      "source": [
        "comb=comb.drop(['sum_40','9','5'],axis=1)"
      ],
      "execution_count": 0,
      "outputs": []
    },
    {
      "cell_type": "code",
      "metadata": {
        "id": "teWRNNapF5JF",
        "colab_type": "code",
        "colab": {}
      },
      "source": [
        "comb_test=comb_test.drop(['sum_40','9','5'],axis=1)"
      ],
      "execution_count": 0,
      "outputs": []
    },
    {
      "cell_type": "code",
      "metadata": {
        "id": "GtCEh-6lF8WQ",
        "colab_type": "code",
        "colab": {}
      },
      "source": [
        "comb['m13']=train['m13']"
      ],
      "execution_count": 0,
      "outputs": []
    },
    {
      "cell_type": "code",
      "metadata": {
        "id": "Xit5Gc2OH9Za",
        "colab_type": "code",
        "outputId": "77ddd3a1-55e7-4dd2-a846-62a0ec653c42",
        "colab": {
          "base_uri": "https://localhost:8080/",
          "height": 68
        }
      },
      "source": [
        "comb['m13'].value_counts()"
      ],
      "execution_count": 0,
      "outputs": [
        {
          "output_type": "execute_result",
          "data": {
            "text/plain": [
              "0    115422\n",
              "1       636\n",
              "Name: m13, dtype: int64"
            ]
          },
          "metadata": {
            "tags": []
          },
          "execution_count": 35
        }
      ]
    },
    {
      "cell_type": "code",
      "metadata": {
        "id": "5BBvLY7SIAgT",
        "colab_type": "code",
        "colab": {}
      },
      "source": [
        "# Lets shuffle the data before creating the subsamples\n",
        "\n",
        "comb = comb.sample(frac=1)"
      ],
      "execution_count": 0,
      "outputs": []
    },
    {
      "cell_type": "code",
      "metadata": {
        "id": "G8wSPTy2IPZA",
        "colab_type": "code",
        "colab": {}
      },
      "source": [
        "defaulted = comb.loc[comb['m13'] == 1]\n",
        "non_defaulted = comb.loc[comb['m13'] == 0][:636]"
      ],
      "execution_count": 0,
      "outputs": []
    },
    {
      "cell_type": "code",
      "metadata": {
        "id": "TRW0QZSKIcVd",
        "colab_type": "code",
        "colab": {}
      },
      "source": [
        "normal_distributed_df = pd.concat([defaulted, non_defaulted])\n"
      ],
      "execution_count": 0,
      "outputs": []
    },
    {
      "cell_type": "code",
      "metadata": {
        "id": "CUJ9w2WqIqAJ",
        "colab_type": "code",
        "colab": {}
      },
      "source": [
        "# Shuffle dataframe rows\n",
        "new_df = normal_distributed_df.sample(frac=1, random_state=42)"
      ],
      "execution_count": 0,
      "outputs": []
    },
    {
      "cell_type": "code",
      "metadata": {
        "id": "mgHmrIEHIuMe",
        "colab_type": "code",
        "outputId": "f2b2f5e7-70b0-45b0-b7e0-0fc0388283d4",
        "colab": {
          "base_uri": "https://localhost:8080/",
          "height": 297
        }
      },
      "source": [
        "new_df[['1','2','3','5','8','9','sum_40','m13']].corr()"
      ],
      "execution_count": 0,
      "outputs": [
        {
          "output_type": "execute_result",
          "data": {
            "text/html": [
              "<div>\n",
              "<style scoped>\n",
              "    .dataframe tbody tr th:only-of-type {\n",
              "        vertical-align: middle;\n",
              "    }\n",
              "\n",
              "    .dataframe tbody tr th {\n",
              "        vertical-align: top;\n",
              "    }\n",
              "\n",
              "    .dataframe thead th {\n",
              "        text-align: right;\n",
              "    }\n",
              "</style>\n",
              "<table border=\"1\" class=\"dataframe\">\n",
              "  <thead>\n",
              "    <tr style=\"text-align: right;\">\n",
              "      <th></th>\n",
              "      <th>1</th>\n",
              "      <th>2</th>\n",
              "      <th>3</th>\n",
              "      <th>5</th>\n",
              "      <th>8</th>\n",
              "      <th>9</th>\n",
              "      <th>sum_40</th>\n",
              "      <th>m13</th>\n",
              "    </tr>\n",
              "  </thead>\n",
              "  <tbody>\n",
              "    <tr>\n",
              "      <th>1</th>\n",
              "      <td>1.000000</td>\n",
              "      <td>0.093302</td>\n",
              "      <td>-0.101983</td>\n",
              "      <td>0.079522</td>\n",
              "      <td>-0.225075</td>\n",
              "      <td>0.073591</td>\n",
              "      <td>0.048192</td>\n",
              "      <td>0.138405</td>\n",
              "    </tr>\n",
              "    <tr>\n",
              "      <th>2</th>\n",
              "      <td>0.093302</td>\n",
              "      <td>1.000000</td>\n",
              "      <td>-0.244380</td>\n",
              "      <td>0.150043</td>\n",
              "      <td>-0.677387</td>\n",
              "      <td>0.147001</td>\n",
              "      <td>0.058289</td>\n",
              "      <td>0.272489</td>\n",
              "    </tr>\n",
              "    <tr>\n",
              "      <th>3</th>\n",
              "      <td>-0.101983</td>\n",
              "      <td>-0.244380</td>\n",
              "      <td>1.000000</td>\n",
              "      <td>-0.234614</td>\n",
              "      <td>0.206016</td>\n",
              "      <td>-0.249864</td>\n",
              "      <td>-0.062319</td>\n",
              "      <td>-0.474855</td>\n",
              "    </tr>\n",
              "    <tr>\n",
              "      <th>5</th>\n",
              "      <td>0.079522</td>\n",
              "      <td>0.150043</td>\n",
              "      <td>-0.234614</td>\n",
              "      <td>1.000000</td>\n",
              "      <td>-0.143675</td>\n",
              "      <td>0.905814</td>\n",
              "      <td>0.641041</td>\n",
              "      <td>0.368084</td>\n",
              "    </tr>\n",
              "    <tr>\n",
              "      <th>8</th>\n",
              "      <td>-0.225075</td>\n",
              "      <td>-0.677387</td>\n",
              "      <td>0.206016</td>\n",
              "      <td>-0.143675</td>\n",
              "      <td>1.000000</td>\n",
              "      <td>-0.132111</td>\n",
              "      <td>-0.060979</td>\n",
              "      <td>-0.255106</td>\n",
              "    </tr>\n",
              "    <tr>\n",
              "      <th>9</th>\n",
              "      <td>0.073591</td>\n",
              "      <td>0.147001</td>\n",
              "      <td>-0.249864</td>\n",
              "      <td>0.905814</td>\n",
              "      <td>-0.132111</td>\n",
              "      <td>1.000000</td>\n",
              "      <td>0.734352</td>\n",
              "      <td>0.331775</td>\n",
              "    </tr>\n",
              "    <tr>\n",
              "      <th>sum_40</th>\n",
              "      <td>0.048192</td>\n",
              "      <td>0.058289</td>\n",
              "      <td>-0.062319</td>\n",
              "      <td>0.641041</td>\n",
              "      <td>-0.060979</td>\n",
              "      <td>0.734352</td>\n",
              "      <td>1.000000</td>\n",
              "      <td>0.105493</td>\n",
              "    </tr>\n",
              "    <tr>\n",
              "      <th>m13</th>\n",
              "      <td>0.138405</td>\n",
              "      <td>0.272489</td>\n",
              "      <td>-0.474855</td>\n",
              "      <td>0.368084</td>\n",
              "      <td>-0.255106</td>\n",
              "      <td>0.331775</td>\n",
              "      <td>0.105493</td>\n",
              "      <td>1.000000</td>\n",
              "    </tr>\n",
              "  </tbody>\n",
              "</table>\n",
              "</div>"
            ],
            "text/plain": [
              "               1         2         3  ...         9    sum_40       m13\n",
              "1       1.000000  0.093302 -0.101983  ...  0.073591  0.048192  0.138405\n",
              "2       0.093302  1.000000 -0.244380  ...  0.147001  0.058289  0.272489\n",
              "3      -0.101983 -0.244380  1.000000  ... -0.249864 -0.062319 -0.474855\n",
              "5       0.079522  0.150043 -0.234614  ...  0.905814  0.641041  0.368084\n",
              "8      -0.225075 -0.677387  0.206016  ... -0.132111 -0.060979 -0.255106\n",
              "9       0.073591  0.147001 -0.249864  ...  1.000000  0.734352  0.331775\n",
              "sum_40  0.048192  0.058289 -0.062319  ...  0.734352  1.000000  0.105493\n",
              "m13     0.138405  0.272489 -0.474855  ...  0.331775  0.105493  1.000000\n",
              "\n",
              "[8 rows x 8 columns]"
            ]
          },
          "metadata": {
            "tags": []
          },
          "execution_count": 43
        }
      ]
    },
    {
      "cell_type": "code",
      "metadata": {
        "id": "Cdl5p2TBI_yk",
        "colab_type": "code",
        "outputId": "9f3010f5-eabe-4e3c-d5bc-8585a5d3678d",
        "colab": {
          "base_uri": "https://localhost:8080/",
          "height": 119
        }
      },
      "source": [
        "# # -----> 3 Removing Outliers (Highest Negative Correlated with Labels)\n",
        "col3_fraud = new_df['3'].loc[new_df['m13'] == 1].values\n",
        "q25, q75 = np.percentile(col3_fraud, 25), np.percentile(col3_fraud, 75)\n",
        "print('Quartile 25: {} | Quartile 75: {}'.format(q25, q75))\n",
        "col3_iqr = q75 - q25\n",
        "print('iqr: {}'.format(col3_iqr))\n",
        "\n",
        "col3_cut_off = col3_iqr * 1.5\n",
        "col3_lower, col3_upper = q25 - col3_cut_off, q75 + col3_cut_off\n",
        "print('Cut Off: {}'.format(col3_cut_off))\n",
        "print('3 Lower: {}'.format(col3_lower))\n",
        "print('3 Upper: {}'.format(col3_upper))\n",
        "\n",
        "outliers = [x for x in col3_fraud if x < col3_lower or x > col3_upper]\n",
        "print('Feature 3 Outliers for Fraud Cases: {}'.format(len(outliers)))"
      ],
      "execution_count": 0,
      "outputs": [
        {
          "output_type": "stream",
          "text": [
            "Quartile 25: -2.29627042472704 | Quartile 75: -0.2351730572770056\n",
            "iqr: 2.0610973674500346\n",
            "Cut Off: 3.0916460511750516\n",
            "3 Lower: -5.387916475902092\n",
            "3 Upper: 2.856472993898046\n",
            "Feature 3 Outliers for Fraud Cases: 1\n"
          ],
          "name": "stdout"
        }
      ]
    },
    {
      "cell_type": "code",
      "metadata": {
        "id": "BE6-tMreNNn9",
        "colab_type": "code",
        "outputId": "5f4e5a58-decc-478b-979a-22603ef0fa9b",
        "colab": {
          "base_uri": "https://localhost:8080/",
          "height": 122
        }
      },
      "source": [
        "# -----> 5 removing outliers from fraud transactions\n",
        "col5_fraud = new_df['5'].loc[new_df['m13'] == 1].values\n",
        "q25, q75 = np.percentile(col5_fraud, 25), np.percentile(col5_fraud, 75)\n",
        "col5_iqr = q75 - q25\n",
        "\n",
        "col5_cut_off = col5_iqr * 1.5\n",
        "col5_lower, col5_upper = q25 - col5_cut_off, q75 + col5_cut_off\n",
        "print('col5 Lower: {}'.format(col5_lower))\n",
        "print('col5 Upper: {}'.format(col5_upper))\n",
        "outliers = [x for x in col5_fraud if x < col5_lower or x > col5_upper]\n",
        "print('col5 outliers: {}'.format(outliers))\n",
        "print('Feature col5 Outliers for Fraud Cases: {}'.format(len(outliers)))\n",
        "new_df = new_df.drop(new_df[(new_df['5'] > col5_upper) | (new_df['5'] < col5_lower)].index)\n",
        "print('Number of Instances after outliers removal: {}'.format(len(new_df)))"
      ],
      "execution_count": 0,
      "outputs": [
        {
          "output_type": "stream",
          "text": [
            "col5 Lower: -8.466210864516755\n",
            "col5 Upper: 13.989614952983471\n",
            "col5 outliers: [16.796593180171, 44.86637545204629, 16.796593180171, 16.796593180171, 16.796593180171, 28.02450608892112, 56.0942883607964, 16.796593180171, 28.02450608892112, 16.796593180171, 22.41054963454606, 33.63846254329618, 39.25241899767124, 22.41054963454606, 33.63846254329618, 61.70824481517146, 22.41054963454606, 16.796593180171, 16.796593180171, 28.02450608892112, 16.796593180171, 56.0942883607964, 22.41054963454606, 78.55011417829662, 56.0942883607964, 16.796593180171, 16.796593180171, 33.63846254329618, 33.63846254329618, 33.63846254329618, 39.25241899767124, 39.25241899767124, 44.86637545204629, 16.796593180171, 56.0942883607964, 22.41054963454606, 22.41054963454606, 33.63846254329618, 22.41054963454606, 61.70824481517146, 16.796593180171, 28.02450608892112, 39.25241899767124, 33.63846254329618, 50.48033190642135, 33.63846254329618, 16.796593180171, 16.796593180171, 28.02450608892112, 16.796593180171, 22.41054963454606, 16.796593180171, 44.86637545204629, 44.86637545204629, 16.796593180171, 22.41054963454606, 61.70824481517146, 56.0942883607964, 50.48033190642135, 16.796593180171, 16.796593180171, 16.796593180171, 16.796593180171, 28.02450608892112, 33.63846254329618, 33.63846254329618, 22.41054963454606, 16.796593180171, 44.86637545204629, 50.48033190642135, 22.41054963454606, 16.796593180171, 16.796593180171, 22.41054963454606, 22.41054963454606, 28.02450608892112, 33.63846254329618, 16.796593180171, 33.63846254329618, 33.63846254329618, 16.796593180171, 39.25241899767124, 22.41054963454606, 39.25241899767124, 16.796593180171]\n",
            "Feature col5 Outliers for Fraud Cases: 85\n",
            "Number of Instances after outliers removal: 1187\n"
          ],
          "name": "stdout"
        }
      ]
    },
    {
      "cell_type": "code",
      "metadata": {
        "id": "YMTNHtFnOK9B",
        "colab_type": "code",
        "outputId": "517943c7-0618-4e1c-c7b8-2ed757553f0f",
        "colab": {
          "base_uri": "https://localhost:8080/",
          "height": 122
        }
      },
      "source": [
        "# -----> 5 removing outliers from fraud transactions\n",
        "col9_fraud = new_df['9'].loc[new_df['m13'] == 1].values\n",
        "q25, q75 = np.percentile(col9_fraud, 25), np.percentile(col9_fraud, 75)\n",
        "col9_iqr = q75 - q25\n",
        "\n",
        "col9_cut_off = col9_iqr * 1.5\n",
        "col9_lower, col9_upper = q25 - col9_cut_off, q75 + col9_cut_off\n",
        "print('col9 Lower: {}'.format(col9_lower))\n",
        "print('col9 Upper: {}'.format(col9_upper))\n",
        "outliers = [x for x in col9_fraud if x < col9_lower or x > col9_upper]\n",
        "print('col9 outliers: {}'.format(outliers))\n",
        "print('Feature col9 Outliers for Fraud Cases: {}'.format(len(outliers)))\n",
        "new_df = new_df.drop(new_df[(new_df['9'] > col5_upper) | (new_df['9'] < col9_lower)].index)\n",
        "print('Number of Instances after outliers removal: {}'.format(len(new_df)))"
      ],
      "execution_count": 0,
      "outputs": [
        {
          "output_type": "stream",
          "text": [
            "col9 Lower: -4.696522163964958\n",
            "col9 Upper: 7.683108976644068\n",
            "col9 outliers: [8.198926940836111, 9.230562869220195, 25.736737723365565, 18.51528622467697, 11.293834725988367, 23.673465866597397, 11.293834725988367, 9.230562869220195, 13.357106582756538, 15.420378439524713, 12.325470654372456, 11.293834725988367, 10.262198797604283, 9.230562869220195, 35.02146107882233, 14.388742511140626, 9.230562869220195, 11.293834725988367, 21.610194009829225, 8.198926940836111, 8.198926940836111, 35.02146107882233, 29.863281436901907, 10.262198797604283, 8.198926940836111, 13.357106582756538, 11.293834725988367, 8.198926940836111, 12.325470654372456, 10.262198797604283, 10.262198797604283, 15.420378439524713, 9.230562869220195, 15.420378439524713, 10.262198797604283, 12.325470654372456, 12.325470654372456, 9.230562869220195, 12.325470654372456, 9.230562869220195, 14.388742511140626, 8.198926940836111, 8.198926940836111, 20.578558081445134, 14.388742511140626, 24.70510179498148, 8.198926940836111, 11.293834725988367, 9.230562869220195, 12.325470654372456, 9.230562869220195, 8.198926940836111]\n",
            "Feature col9 Outliers for Fraud Cases: 52\n",
            "Number of Instances after outliers removal: 1172\n"
          ],
          "name": "stdout"
        }
      ]
    },
    {
      "cell_type": "code",
      "metadata": {
        "id": "PNiLPYemOrI2",
        "colab_type": "code",
        "colab": {}
      },
      "source": [
        "X = new_df.drop('m13', axis=1)\n",
        "y = new_df['m13']"
      ],
      "execution_count": 0,
      "outputs": []
    },
    {
      "cell_type": "code",
      "metadata": {
        "id": "7GHBZZn1PPl7",
        "colab_type": "code",
        "outputId": "5fb2b429-03a9-4f9d-f8d0-e09ec05b2818",
        "colab": {
          "base_uri": "https://localhost:8080/",
          "height": 486
        }
      },
      "source": [
        "tsne_plot(X,y)"
      ],
      "execution_count": 0,
      "outputs": [
        {
          "output_type": "display_data",
          "data": {
            "image/png": "[encoded data removed]",
            "text/plain": [
              "<Figure size 864x576 with 1 Axes>"
            ]
          },
          "metadata": {
            "tags": []
          }
        }
      ]
    },
    {
      "cell_type": "code",
      "metadata": {
        "id": "FdqDefyqPWfq",
        "colab_type": "code",
        "colab": {}
      },
      "source": [
        "X_train, X_test, y_train, y_test = train_test_split(X, y, test_size=0.2, random_state=42)"
      ],
      "execution_count": 0,
      "outputs": []
    },
    {
      "cell_type": "code",
      "metadata": {
        "id": "p82vj1q9R4_v",
        "colab_type": "code",
        "colab": {}
      },
      "source": [
        "X_train = X_train.values\n",
        "X_test = X_test.values\n",
        "y_train = y_train.values\n",
        "y_test = y_test.values"
      ],
      "execution_count": 0,
      "outputs": []
    },
    {
      "cell_type": "code",
      "metadata": {
        "id": "QmdOp6SpR9qr",
        "colab_type": "code",
        "colab": {}
      },
      "source": [
        "# Let's implement simple classifiers\n",
        "\n",
        "classifiers = {\n",
        "    \"LogisiticRegression\": LogisticRegression(),\n",
        "    \"KNearest\": KNeighborsClassifier(),\n",
        "    \"Support Vector Classifier\": SVC(),\n",
        "    \"DecisionTreeClassifier\": DecisionTreeClassifier()\n",
        "}\n"
      ],
      "execution_count": 0,
      "outputs": []
    },
    {
      "cell_type": "code",
      "metadata": {
        "id": "lPDDwGGuSCko",
        "colab_type": "code",
        "outputId": "fa59d503-a8a9-46b0-e81b-e6428f6e7bc3",
        "colab": {
          "base_uri": "https://localhost:8080/",
          "height": 85
        }
      },
      "source": [
        "from sklearn.model_selection import cross_val_score\n",
        "\n",
        "\n",
        "for key, classifier in classifiers.items():\n",
        "    classifier.fit(X_train, y_train)\n",
        "    training_score = cross_val_score(classifier, X_train, y_train, cv=5)\n",
        "    print(\"Classifiers: \", classifier.__class__.__name__, \"Has a training score of\", round(training_score.mean(), 2) * 100, \"% accuracy score\")"
      ],
      "execution_count": 0,
      "outputs": [
        {
          "output_type": "stream",
          "text": [
            "Classifiers:  LogisticRegression Has a training score of 81.0 % accuracy score\n",
            "Classifiers:  KNeighborsClassifier Has a training score of 78.0 % accuracy score\n",
            "Classifiers:  SVC Has a training score of 81.0 % accuracy score\n",
            "Classifiers:  DecisionTreeClassifier Has a training score of 73.0 % accuracy score\n"
          ],
          "name": "stdout"
        }
      ]
    },
    {
      "cell_type": "code",
      "metadata": {
        "id": "RB1VK69USv3t",
        "colab_type": "code",
        "colab": {}
      },
      "source": [
        "from sklearn.model_selection import GridSearchCV\n",
        "\n",
        "\n",
        "# Logistic Regression \n",
        "log_reg_params = {\"penalty\": ['l1', 'l2'], 'C': [0.001, 0.01, 0.1, 1, 10, 100, 1000]}\n",
        "\n",
        "\n",
        "\n",
        "grid_log_reg = GridSearchCV(LogisticRegression(), log_reg_params)\n",
        "grid_log_reg.fit(X_train, y_train)\n",
        "# We automatically get the logistic regression with the best parameters.\n",
        "log_reg = grid_log_reg.best_estimator_\n",
        "\n",
        "knears_params = {\"n_neighbors\": list(range(2,5,1)), 'algorithm': ['auto', 'ball_tree', 'kd_tree', 'brute']}\n",
        "\n",
        "grid_knears = GridSearchCV(KNeighborsClassifier(), knears_params)\n",
        "grid_knears.fit(X_train, y_train)\n",
        "# KNears best estimator\n",
        "knears_neighbors = grid_knears.best_estimator_\n",
        "\n",
        "# Support Vector Classifier\n",
        "svc_params = {'C': [0.5, 0.7, 0.9, 1], 'kernel': ['rbf', 'poly', 'sigmoid', 'linear']}\n",
        "grid_svc = GridSearchCV(SVC(), svc_params)\n",
        "grid_svc.fit(X_train, y_train)\n",
        "\n",
        "# SVC best estimator\n",
        "svc = grid_svc.best_estimator_\n",
        "\n",
        "# DecisionTree Classifier\n",
        "tree_params = {\"criterion\": [\"gini\", \"entropy\"], \"max_depth\": list(range(2,4,1)), \n",
        "              \"min_samples_leaf\": list(range(5,7,1))}\n",
        "grid_tree = GridSearchCV(DecisionTreeClassifier(), tree_params)\n",
        "grid_tree.fit(X_train, y_train)\n",
        "\n",
        "# tree best estimator\n",
        "tree_clf = grid_tree.best_estimator_"
      ],
      "execution_count": 0,
      "outputs": []
    },
    {
      "cell_type": "code",
      "metadata": {
        "id": "hPOoHeNRS4Ht",
        "colab_type": "code",
        "outputId": "24ab9a8a-a4f5-4a0e-9b90-ea32553c6a6c",
        "colab": {
          "base_uri": "https://localhost:8080/",
          "height": 85
        }
      },
      "source": [
        "# Overfitting Case\n",
        "\n",
        "log_reg_score = cross_val_score(log_reg, X_train, y_train, cv=5)\n",
        "print('Logistic Regression Cross Validation Score: ', round(log_reg_score.mean() * 100, 2).astype(str) + '%')\n",
        "\n",
        "\n",
        "knears_score = cross_val_score(knears_neighbors, X_train, y_train, cv=5)\n",
        "print('Knears Neighbors Cross Validation Score', round(knears_score.mean() * 100, 2).astype(str) + '%')\n",
        "\n",
        "svc_score = cross_val_score(svc, X_train, y_train, cv=5)\n",
        "print('Support Vector Classifier Cross Validation Score', round(svc_score.mean() * 100, 2).astype(str) + '%')\n",
        "\n",
        "tree_score = cross_val_score(tree_clf, X_train, y_train, cv=5)\n",
        "print('DecisionTree Classifier Cross Validation Score', round(tree_score.mean() * 100, 2).astype(str) + '%')"
      ],
      "execution_count": 0,
      "outputs": [
        {
          "output_type": "stream",
          "text": [
            "Logistic Regression Cross Validation Score:  81.54%\n",
            "Knears Neighbors Cross Validation Score 76.74%\n",
            "Support Vector Classifier Cross Validation Score 80.58%\n",
            "DecisionTree Classifier Cross Validation Score 80.58%\n"
          ],
          "name": "stdout"
        }
      ]
    },
    {
      "cell_type": "code",
      "metadata": {
        "id": "XluHejIATvrv",
        "colab_type": "code",
        "colab": {}
      },
      "source": [
        "sss = StratifiedKFold(n_splits=5, random_state=None, shuffle=False)\n",
        "from imblearn.over_sampling import SMOTE\n",
        "from imblearn.under_sampling import NearMiss\n",
        "from sklearn.pipeline import make_pipeline\n",
        "from imblearn.pipeline import make_pipeline as imbalanced_make_pipeline\n",
        "from collections import Counter"
      ],
      "execution_count": 0,
      "outputs": []
    },
    {
      "cell_type": "code",
      "metadata": {
        "id": "tUvFuh4zUgcW",
        "colab_type": "code",
        "outputId": "2a1eac54-9f11-4337-e9dc-a15ff9457e01",
        "colab": {
          "base_uri": "https://localhost:8080/",
          "height": 1000
        }
      },
      "source": [
        "for train_index, test_index in sss.split(X, y):\n",
        "    print(\"Train:\", train_index, \"Test:\", test_index)\n",
        "    original_Xtrain, original_Xtest = X.iloc[train_index], X.iloc[test_index]\n",
        "    original_ytrain, original_ytest = y.iloc[train_index], y.iloc[test_index]\n",
        "\n",
        "# We already have X_train and y_train for undersample data thats why I am using original to distinguish and to not overwrite these variables.\n",
        "# original_Xtrain, original_Xtest, original_ytrain, original_ytest = train_test_split(X, y, test_size=0.2, random_state=42)\n",
        "\n",
        "# Check the Distribution of the labels\n",
        "\n",
        "\n",
        "# Turn into an array\n",
        "original_Xtrain = original_Xtrain.values\n",
        "original_Xtest = original_Xtest.values\n",
        "original_ytrain = original_ytrain.values\n",
        "original_ytest = original_ytest.values\n"
      ],
      "execution_count": 0,
      "outputs": [
        {
          "output_type": "stream",
          "text": [
            "Train: [ 217  219  221  222  223  225  228  229  230  231  233  235  239  240\n",
            "  241  242  248  249  254  255  256  257  258  259  260  261  262  263\n",
            "  264  265  266  267  268  269  270  271  272  273  274  275  276  277\n",
            "  278  279  280  281  282  283  284  285  286  287  288  289  290  291\n",
            "  292  293  294  295  296  297  298  299  300  301  302  303  304  305\n",
            "  306  307  308  309  310  311  312  313  314  315  316  317  318  319\n",
            "  320  321  322  323  324  325  326  327  328  329  330  331  332  333\n",
            "  334  335  336  337  338  339  340  341  342  343  344  345  346  347\n",
            "  348  349  350  351  352  353  354  355  356  357  358  359  360  361\n",
            "  362  363  364  365  366  367  368  369  370  371  372  373  374  375\n",
            "  376  377  378  379  380  381  382  383  384  385  386  387  388  389\n",
            "  390  391  392  393  394  395  396  397  398  399  400  401  402  403\n",
            "  404  405  406  407  408  409  410  411  412  413  414  415  416  417\n",
            "  418  419  420  421  422  423  424  425  426  427  428  429  430  431\n",
            "  432  433  434  435  436  437  438  439  440  441  442  443  444  445\n",
            "  446  447  448  449  450  451  452  453  454  455  456  457  458  459\n",
            "  460  461  462  463  464  465  466  467  468  469  470  471  472  473\n",
            "  474  475  476  477  478  479  480  481  482  483  484  485  486  487\n",
            "  488  489  490  491  492  493  494  495  496  497  498  499  500  501\n",
            "  502  503  504  505  506  507  508  509  510  511  512  513  514  515\n",
            "  516  517  518  519  520  521  522  523  524  525  526  527  528  529\n",
            "  530  531  532  533  534  535  536  537  538  539  540  541  542  543\n",
            "  544  545  546  547  548  549  550  551  552  553  554  555  556  557\n",
            "  558  559  560  561  562  563  564  565  566  567  568  569  570  571\n",
            "  572  573  574  575  576  577  578  579  580  581  582  583  584  585\n",
            "  586  587  588  589  590  591  592  593  594  595  596  597  598  599\n",
            "  600  601  602  603  604  605  606  607  608  609  610  611  612  613\n",
            "  614  615  616  617  618  619  620  621  622  623  624  625  626  627\n",
            "  628  629  630  631  632  633  634  635  636  637  638  639  640  641\n",
            "  642  643  644  645  646  647  648  649  650  651  652  653  654  655\n",
            "  656  657  658  659  660  661  662  663  664  665  666  667  668  669\n",
            "  670  671  672  673  674  675  676  677  678  679  680  681  682  683\n",
            "  684  685  686  687  688  689  690  691  692  693  694  695  696  697\n",
            "  698  699  700  701  702  703  704  705  706  707  708  709  710  711\n",
            "  712  713  714  715  716  717  718  719  720  721  722  723  724  725\n",
            "  726  727  728  729  730  731  732  733  734  735  736  737  738  739\n",
            "  740  741  742  743  744  745  746  747  748  749  750  751  752  753\n",
            "  754  755  756  757  758  759  760  761  762  763  764  765  766  767\n",
            "  768  769  770  771  772  773  774  775  776  777  778  779  780  781\n",
            "  782  783  784  785  786  787  788  789  790  791  792  793  794  795\n",
            "  796  797  798  799  800  801  802  803  804  805  806  807  808  809\n",
            "  810  811  812  813  814  815  816  817  818  819  820  821  822  823\n",
            "  824  825  826  827  828  829  830  831  832  833  834  835  836  837\n",
            "  838  839  840  841  842  843  844  845  846  847  848  849  850  851\n",
            "  852  853  854  855  856  857  858  859  860  861  862  863  864  865\n",
            "  866  867  868  869  870  871  872  873  874  875  876  877  878  879\n",
            "  880  881  882  883  884  885  886  887  888  889  890  891  892  893\n",
            "  894  895  896  897  898  899  900  901  902  903  904  905  906  907\n",
            "  908  909  910  911  912  913  914  915  916  917  918  919  920  921\n",
            "  922  923  924  925  926  927  928  929  930  931  932  933  934  935\n",
            "  936  937  938  939  940  941  942  943  944  945  946  947  948  949\n",
            "  950  951  952  953  954  955  956  957  958  959  960  961  962  963\n",
            "  964  965  966  967  968  969  970  971  972  973  974  975  976  977\n",
            "  978  979  980  981  982  983  984  985  986  987  988  989  990  991\n",
            "  992  993  994  995  996  997  998  999 1000 1001 1002 1003 1004 1005\n",
            " 1006 1007 1008 1009 1010 1011 1012 1013 1014 1015 1016 1017 1018 1019\n",
            " 1020 1021 1022 1023 1024 1025 1026 1027 1028 1029 1030 1031 1032 1033\n",
            " 1034 1035 1036 1037 1038 1039 1040 1041 1042 1043 1044 1045 1046 1047\n",
            " 1048 1049 1050 1051 1052 1053 1054 1055 1056 1057 1058 1059 1060 1061\n",
            " 1062 1063 1064 1065 1066 1067 1068 1069 1070 1071 1072 1073 1074 1075\n",
            " 1076 1077 1078 1079 1080 1081 1082 1083 1084 1085 1086 1087 1088 1089\n",
            " 1090 1091 1092 1093 1094 1095 1096 1097 1098 1099 1100 1101 1102 1103\n",
            " 1104 1105 1106 1107 1108 1109 1110 1111 1112 1113 1114 1115 1116 1117\n",
            " 1118 1119 1120 1121 1122 1123 1124 1125 1126 1127 1128 1129 1130 1131\n",
            " 1132 1133 1134 1135 1136 1137 1138 1139 1140 1141 1142 1143 1144 1145\n",
            " 1146 1147 1148 1149 1150 1151 1152 1153 1154 1155 1156 1157 1158 1159\n",
            " 1160 1161 1162 1163 1164 1165 1166 1167 1168 1169 1170 1171] Test: [  0   1   2   3   4   5   6   7   8   9  10  11  12  13  14  15  16  17\n",
            "  18  19  20  21  22  23  24  25  26  27  28  29  30  31  32  33  34  35\n",
            "  36  37  38  39  40  41  42  43  44  45  46  47  48  49  50  51  52  53\n",
            "  54  55  56  57  58  59  60  61  62  63  64  65  66  67  68  69  70  71\n",
            "  72  73  74  75  76  77  78  79  80  81  82  83  84  85  86  87  88  89\n",
            "  90  91  92  93  94  95  96  97  98  99 100 101 102 103 104 105 106 107\n",
            " 108 109 110 111 112 113 114 115 116 117 118 119 120 121 122 123 124 125\n",
            " 126 127 128 129 130 131 132 133 134 135 136 137 138 139 140 141 142 143\n",
            " 144 145 146 147 148 149 150 151 152 153 154 155 156 157 158 159 160 161\n",
            " 162 163 164 165 166 167 168 169 170 171 172 173 174 175 176 177 178 179\n",
            " 180 181 182 183 184 185 186 187 188 189 190 191 192 193 194 195 196 197\n",
            " 198 199 200 201 202 203 204 205 206 207 208 209 210 211 212 213 214 215\n",
            " 216 218 220 224 226 227 232 234 236 237 238 243 244 245 246 247 250 251\n",
            " 252 253]\n",
            "Train: [   0    1    2    3    4    5    6    7    8    9   10   11   12   13\n",
            "   14   15   16   17   18   19   20   21   22   23   24   25   26   27\n",
            "   28   29   30   31   32   33   34   35   36   37   38   39   40   41\n",
            "   42   43   44   45   46   47   48   49   50   51   52   53   54   55\n",
            "   56   57   58   59   60   61   62   63   64   65   66   67   68   69\n",
            "   70   71   72   73   74   75   76   77   78   79   80   81   82   83\n",
            "   84   85   86   87   88   89   90   91   92   93   94   95   96   97\n",
            "   98   99  100  101  102  103  104  105  106  107  108  109  110  111\n",
            "  112  113  114  115  116  117  118  119  120  121  122  123  124  125\n",
            "  126  127  128  129  130  131  132  133  134  135  136  137  138  139\n",
            "  140  141  142  143  144  145  146  147  148  149  150  151  152  153\n",
            "  154  155  156  157  158  159  160  161  162  163  164  165  166  167\n",
            "  168  169  170  171  172  173  174  175  176  177  178  179  180  181\n",
            "  182  183  184  185  186  187  188  189  190  191  192  193  194  195\n",
            "  196  197  198  199  200  201  202  203  204  205  206  207  208  209\n",
            "  210  211  212  213  214  215  216  218  220  224  226  227  232  234\n",
            "  236  237  238  243  244  245  246  247  250  251  252  253  444  445\n",
            "  446  449  455  457  459  460  461  462  463  467  472  473  474  475\n",
            "  477  479  480  481  482  483  486  493  494  495  496  497  498  499\n",
            "  500  501  502  503  504  505  506  507  508  509  510  511  512  513\n",
            "  514  515  516  517  518  519  520  521  522  523  524  525  526  527\n",
            "  528  529  530  531  532  533  534  535  536  537  538  539  540  541\n",
            "  542  543  544  545  546  547  548  549  550  551  552  553  554  555\n",
            "  556  557  558  559  560  561  562  563  564  565  566  567  568  569\n",
            "  570  571  572  573  574  575  576  577  578  579  580  581  582  583\n",
            "  584  585  586  587  588  589  590  591  592  593  594  595  596  597\n",
            "  598  599  600  601  602  603  604  605  606  607  608  609  610  611\n",
            "  612  613  614  615  616  617  618  619  620  621  622  623  624  625\n",
            "  626  627  628  629  630  631  632  633  634  635  636  637  638  639\n",
            "  640  641  642  643  644  645  646  647  648  649  650  651  652  653\n",
            "  654  655  656  657  658  659  660  661  662  663  664  665  666  667\n",
            "  668  669  670  671  672  673  674  675  676  677  678  679  680  681\n",
            "  682  683  684  685  686  687  688  689  690  691  692  693  694  695\n",
            "  696  697  698  699  700  701  702  703  704  705  706  707  708  709\n",
            "  710  711  712  713  714  715  716  717  718  719  720  721  722  723\n",
            "  724  725  726  727  728  729  730  731  732  733  734  735  736  737\n",
            "  738  739  740  741  742  743  744  745  746  747  748  749  750  751\n",
            "  752  753  754  755  756  757  758  759  760  761  762  763  764  765\n",
            "  766  767  768  769  770  771  772  773  774  775  776  777  778  779\n",
            "  780  781  782  783  784  785  786  787  788  789  790  791  792  793\n",
            "  794  795  796  797  798  799  800  801  802  803  804  805  806  807\n",
            "  808  809  810  811  812  813  814  815  816  817  818  819  820  821\n",
            "  822  823  824  825  826  827  828  829  830  831  832  833  834  835\n",
            "  836  837  838  839  840  841  842  843  844  845  846  847  848  849\n",
            "  850  851  852  853  854  855  856  857  858  859  860  861  862  863\n",
            "  864  865  866  867  868  869  870  871  872  873  874  875  876  877\n",
            "  878  879  880  881  882  883  884  885  886  887  888  889  890  891\n",
            "  892  893  894  895  896  897  898  899  900  901  902  903  904  905\n",
            "  906  907  908  909  910  911  912  913  914  915  916  917  918  919\n",
            "  920  921  922  923  924  925  926  927  928  929  930  931  932  933\n",
            "  934  935  936  937  938  939  940  941  942  943  944  945  946  947\n",
            "  948  949  950  951  952  953  954  955  956  957  958  959  960  961\n",
            "  962  963  964  965  966  967  968  969  970  971  972  973  974  975\n",
            "  976  977  978  979  980  981  982  983  984  985  986  987  988  989\n",
            "  990  991  992  993  994  995  996  997  998  999 1000 1001 1002 1003\n",
            " 1004 1005 1006 1007 1008 1009 1010 1011 1012 1013 1014 1015 1016 1017\n",
            " 1018 1019 1020 1021 1022 1023 1024 1025 1026 1027 1028 1029 1030 1031\n",
            " 1032 1033 1034 1035 1036 1037 1038 1039 1040 1041 1042 1043 1044 1045\n",
            " 1046 1047 1048 1049 1050 1051 1052 1053 1054 1055 1056 1057 1058 1059\n",
            " 1060 1061 1062 1063 1064 1065 1066 1067 1068 1069 1070 1071 1072 1073\n",
            " 1074 1075 1076 1077 1078 1079 1080 1081 1082 1083 1084 1085 1086 1087\n",
            " 1088 1089 1090 1091 1092 1093 1094 1095 1096 1097 1098 1099 1100 1101\n",
            " 1102 1103 1104 1105 1106 1107 1108 1109 1110 1111 1112 1113 1114 1115\n",
            " 1116 1117 1118 1119 1120 1121 1122 1123 1124 1125 1126 1127 1128 1129\n",
            " 1130 1131 1132 1133 1134 1135 1136 1137 1138 1139 1140 1141 1142 1143\n",
            " 1144 1145 1146 1147 1148 1149 1150 1151 1152 1153 1154 1155 1156 1157\n",
            " 1158 1159 1160 1161 1162 1163 1164 1165 1166 1167 1168 1169 1170 1171] Test: [217 219 221 222 223 225 228 229 230 231 233 235 239 240 241 242 248 249\n",
            " 254 255 256 257 258 259 260 261 262 263 264 265 266 267 268 269 270 271\n",
            " 272 273 274 275 276 277 278 279 280 281 282 283 284 285 286 287 288 289\n",
            " 290 291 292 293 294 295 296 297 298 299 300 301 302 303 304 305 306 307\n",
            " 308 309 310 311 312 313 314 315 316 317 318 319 320 321 322 323 324 325\n",
            " 326 327 328 329 330 331 332 333 334 335 336 337 338 339 340 341 342 343\n",
            " 344 345 346 347 348 349 350 351 352 353 354 355 356 357 358 359 360 361\n",
            " 362 363 364 365 366 367 368 369 370 371 372 373 374 375 376 377 378 379\n",
            " 380 381 382 383 384 385 386 387 388 389 390 391 392 393 394 395 396 397\n",
            " 398 399 400 401 402 403 404 405 406 407 408 409 410 411 412 413 414 415\n",
            " 416 417 418 419 420 421 422 423 424 425 426 427 428 429 430 431 432 433\n",
            " 434 435 436 437 438 439 440 441 442 443 447 448 450 451 452 453 454 456\n",
            " 458 464 465 466 468 469 470 471 476 478 484 485 487 488 489 490 491 492]\n",
            "Train: [   0    1    2    3    4    5    6    7    8    9   10   11   12   13\n",
            "   14   15   16   17   18   19   20   21   22   23   24   25   26   27\n",
            "   28   29   30   31   32   33   34   35   36   37   38   39   40   41\n",
            "   42   43   44   45   46   47   48   49   50   51   52   53   54   55\n",
            "   56   57   58   59   60   61   62   63   64   65   66   67   68   69\n",
            "   70   71   72   73   74   75   76   77   78   79   80   81   82   83\n",
            "   84   85   86   87   88   89   90   91   92   93   94   95   96   97\n",
            "   98   99  100  101  102  103  104  105  106  107  108  109  110  111\n",
            "  112  113  114  115  116  117  118  119  120  121  122  123  124  125\n",
            "  126  127  128  129  130  131  132  133  134  135  136  137  138  139\n",
            "  140  141  142  143  144  145  146  147  148  149  150  151  152  153\n",
            "  154  155  156  157  158  159  160  161  162  163  164  165  166  167\n",
            "  168  169  170  171  172  173  174  175  176  177  178  179  180  181\n",
            "  182  183  184  185  186  187  188  189  190  191  192  193  194  195\n",
            "  196  197  198  199  200  201  202  203  204  205  206  207  208  209\n",
            "  210  211  212  213  214  215  216  217  218  219  220  221  222  223\n",
            "  224  225  226  227  228  229  230  231  232  233  234  235  236  237\n",
            "  238  239  240  241  242  243  244  245  246  247  248  249  250  251\n",
            "  252  253  254  255  256  257  258  259  260  261  262  263  264  265\n",
            "  266  267  268  269  270  271  272  273  274  275  276  277  278  279\n",
            "  280  281  282  283  284  285  286  287  288  289  290  291  292  293\n",
            "  294  295  296  297  298  299  300  301  302  303  304  305  306  307\n",
            "  308  309  310  311  312  313  314  315  316  317  318  319  320  321\n",
            "  322  323  324  325  326  327  328  329  330  331  332  333  334  335\n",
            "  336  337  338  339  340  341  342  343  344  345  346  347  348  349\n",
            "  350  351  352  353  354  355  356  357  358  359  360  361  362  363\n",
            "  364  365  366  367  368  369  370  371  372  373  374  375  376  377\n",
            "  378  379  380  381  382  383  384  385  386  387  388  389  390  391\n",
            "  392  393  394  395  396  397  398  399  400  401  402  403  404  405\n",
            "  406  407  408  409  410  411  412  413  414  415  416  417  418  419\n",
            "  420  421  422  423  424  425  426  427  428  429  430  431  432  433\n",
            "  434  435  436  437  438  439  440  441  442  443  447  448  450  451\n",
            "  452  453  454  456  458  464  465  466  468  469  470  471  476  478\n",
            "  484  485  487  488  489  490  491  492  660  665  668  670  672  673\n",
            "  674  676  677  682  683  684  686  689  696  701  702  707  708  711\n",
            "  713  714  715  716  718  722  726  727  729  730  731  732  733  734\n",
            "  736  738  740  741  742  743  744  745  746  747  748  749  750  751\n",
            "  752  753  754  755  756  757  758  759  760  761  762  763  764  765\n",
            "  766  767  768  769  770  771  772  773  774  775  776  777  778  779\n",
            "  780  781  782  783  784  785  786  787  788  789  790  791  792  793\n",
            "  794  795  796  797  798  799  800  801  802  803  804  805  806  807\n",
            "  808  809  810  811  812  813  814  815  816  817  818  819  820  821\n",
            "  822  823  824  825  826  827  828  829  830  831  832  833  834  835\n",
            "  836  837  838  839  840  841  842  843  844  845  846  847  848  849\n",
            "  850  851  852  853  854  855  856  857  858  859  860  861  862  863\n",
            "  864  865  866  867  868  869  870  871  872  873  874  875  876  877\n",
            "  878  879  880  881  882  883  884  885  886  887  888  889  890  891\n",
            "  892  893  894  895  896  897  898  899  900  901  902  903  904  905\n",
            "  906  907  908  909  910  911  912  913  914  915  916  917  918  919\n",
            "  920  921  922  923  924  925  926  927  928  929  930  931  932  933\n",
            "  934  935  936  937  938  939  940  941  942  943  944  945  946  947\n",
            "  948  949  950  951  952  953  954  955  956  957  958  959  960  961\n",
            "  962  963  964  965  966  967  968  969  970  971  972  973  974  975\n",
            "  976  977  978  979  980  981  982  983  984  985  986  987  988  989\n",
            "  990  991  992  993  994  995  996  997  998  999 1000 1001 1002 1003\n",
            " 1004 1005 1006 1007 1008 1009 1010 1011 1012 1013 1014 1015 1016 1017\n",
            " 1018 1019 1020 1021 1022 1023 1024 1025 1026 1027 1028 1029 1030 1031\n",
            " 1032 1033 1034 1035 1036 1037 1038 1039 1040 1041 1042 1043 1044 1045\n",
            " 1046 1047 1048 1049 1050 1051 1052 1053 1054 1055 1056 1057 1058 1059\n",
            " 1060 1061 1062 1063 1064 1065 1066 1067 1068 1069 1070 1071 1072 1073\n",
            " 1074 1075 1076 1077 1078 1079 1080 1081 1082 1083 1084 1085 1086 1087\n",
            " 1088 1089 1090 1091 1092 1093 1094 1095 1096 1097 1098 1099 1100 1101\n",
            " 1102 1103 1104 1105 1106 1107 1108 1109 1110 1111 1112 1113 1114 1115\n",
            " 1116 1117 1118 1119 1120 1121 1122 1123 1124 1125 1126 1127 1128 1129\n",
            " 1130 1131 1132 1133 1134 1135 1136 1137 1138 1139 1140 1141 1142 1143\n",
            " 1144 1145 1146 1147 1148 1149 1150 1151 1152 1153 1154 1155 1156 1157\n",
            " 1158 1159 1160 1161 1162 1163 1164 1165 1166 1167 1168 1169 1170 1171] Test: [444 445 446 449 455 457 459 460 461 462 463 467 472 473 474 475 477 479\n",
            " 480 481 482 483 486 493 494 495 496 497 498 499 500 501 502 503 504 505\n",
            " 506 507 508 509 510 511 512 513 514 515 516 517 518 519 520 521 522 523\n",
            " 524 525 526 527 528 529 530 531 532 533 534 535 536 537 538 539 540 541\n",
            " 542 543 544 545 546 547 548 549 550 551 552 553 554 555 556 557 558 559\n",
            " 560 561 562 563 564 565 566 567 568 569 570 571 572 573 574 575 576 577\n",
            " 578 579 580 581 582 583 584 585 586 587 588 589 590 591 592 593 594 595\n",
            " 596 597 598 599 600 601 602 603 604 605 606 607 608 609 610 611 612 613\n",
            " 614 615 616 617 618 619 620 621 622 623 624 625 626 627 628 629 630 631\n",
            " 632 633 634 635 636 637 638 639 640 641 642 643 644 645 646 647 648 649\n",
            " 650 651 652 653 654 655 656 657 658 659 661 662 663 664 666 667 669 671\n",
            " 675 678 679 680 681 685 687 688 690 691 692 693 694 695 697 698 699 700\n",
            " 703 704 705 706 709 710 712 717 719 720 721 723 724 725 728 735 737 739]\n",
            "Train: [   0    1    2    3    4    5    6    7    8    9   10   11   12   13\n",
            "   14   15   16   17   18   19   20   21   22   23   24   25   26   27\n",
            "   28   29   30   31   32   33   34   35   36   37   38   39   40   41\n",
            "   42   43   44   45   46   47   48   49   50   51   52   53   54   55\n",
            "   56   57   58   59   60   61   62   63   64   65   66   67   68   69\n",
            "   70   71   72   73   74   75   76   77   78   79   80   81   82   83\n",
            "   84   85   86   87   88   89   90   91   92   93   94   95   96   97\n",
            "   98   99  100  101  102  103  104  105  106  107  108  109  110  111\n",
            "  112  113  114  115  116  117  118  119  120  121  122  123  124  125\n",
            "  126  127  128  129  130  131  132  133  134  135  136  137  138  139\n",
            "  140  141  142  143  144  145  146  147  148  149  150  151  152  153\n",
            "  154  155  156  157  158  159  160  161  162  163  164  165  166  167\n",
            "  168  169  170  171  172  173  174  175  176  177  178  179  180  181\n",
            "  182  183  184  185  186  187  188  189  190  191  192  193  194  195\n",
            "  196  197  198  199  200  201  202  203  204  205  206  207  208  209\n",
            "  210  211  212  213  214  215  216  217  218  219  220  221  222  223\n",
            "  224  225  226  227  228  229  230  231  232  233  234  235  236  237\n",
            "  238  239  240  241  242  243  244  245  246  247  248  249  250  251\n",
            "  252  253  254  255  256  257  258  259  260  261  262  263  264  265\n",
            "  266  267  268  269  270  271  272  273  274  275  276  277  278  279\n",
            "  280  281  282  283  284  285  286  287  288  289  290  291  292  293\n",
            "  294  295  296  297  298  299  300  301  302  303  304  305  306  307\n",
            "  308  309  310  311  312  313  314  315  316  317  318  319  320  321\n",
            "  322  323  324  325  326  327  328  329  330  331  332  333  334  335\n",
            "  336  337  338  339  340  341  342  343  344  345  346  347  348  349\n",
            "  350  351  352  353  354  355  356  357  358  359  360  361  362  363\n",
            "  364  365  366  367  368  369  370  371  372  373  374  375  376  377\n",
            "  378  379  380  381  382  383  384  385  386  387  388  389  390  391\n",
            "  392  393  394  395  396  397  398  399  400  401  402  403  404  405\n",
            "  406  407  408  409  410  411  412  413  414  415  416  417  418  419\n",
            "  420  421  422  423  424  425  426  427  428  429  430  431  432  433\n",
            "  434  435  436  437  438  439  440  441  442  443  444  445  446  447\n",
            "  448  449  450  451  452  453  454  455  456  457  458  459  460  461\n",
            "  462  463  464  465  466  467  468  469  470  471  472  473  474  475\n",
            "  476  477  478  479  480  481  482  483  484  485  486  487  488  489\n",
            "  490  491  492  493  494  495  496  497  498  499  500  501  502  503\n",
            "  504  505  506  507  508  509  510  511  512  513  514  515  516  517\n",
            "  518  519  520  521  522  523  524  525  526  527  528  529  530  531\n",
            "  532  533  534  535  536  537  538  539  540  541  542  543  544  545\n",
            "  546  547  548  549  550  551  552  553  554  555  556  557  558  559\n",
            "  560  561  562  563  564  565  566  567  568  569  570  571  572  573\n",
            "  574  575  576  577  578  579  580  581  582  583  584  585  586  587\n",
            "  588  589  590  591  592  593  594  595  596  597  598  599  600  601\n",
            "  602  603  604  605  606  607  608  609  610  611  612  613  614  615\n",
            "  616  617  618  619  620  621  622  623  624  625  626  627  628  629\n",
            "  630  631  632  633  634  635  636  637  638  639  640  641  642  643\n",
            "  644  645  646  647  648  649  650  651  652  653  654  655  656  657\n",
            "  658  659  661  662  663  664  666  667  669  671  675  678  679  680\n",
            "  681  685  687  688  690  691  692  693  694  695  697  698  699  700\n",
            "  703  704  705  706  709  710  712  717  719  720  721  723  724  725\n",
            "  728  735  737  739  917  918  922  923  924  925  930  931  932  933\n",
            "  935  936  937  938  939  940  941  949  951  952  953  955  960  961\n",
            "  962  963  964  965  966  967  968  969  970  971  972  973  974  975\n",
            "  976  977  978  979  980  981  982  983  984  985  986  987  988  989\n",
            "  990  991  992  993  994  995  996  997  998  999 1000 1001 1002 1003\n",
            " 1004 1005 1006 1007 1008 1009 1010 1011 1012 1013 1014 1015 1016 1017\n",
            " 1018 1019 1020 1021 1022 1023 1024 1025 1026 1027 1028 1029 1030 1031\n",
            " 1032 1033 1034 1035 1036 1037 1038 1039 1040 1041 1042 1043 1044 1045\n",
            " 1046 1047 1048 1049 1050 1051 1052 1053 1054 1055 1056 1057 1058 1059\n",
            " 1060 1061 1062 1063 1064 1065 1066 1067 1068 1069 1070 1071 1072 1073\n",
            " 1074 1075 1076 1077 1078 1079 1080 1081 1082 1083 1084 1085 1086 1087\n",
            " 1088 1089 1090 1091 1092 1093 1094 1095 1096 1097 1098 1099 1100 1101\n",
            " 1102 1103 1104 1105 1106 1107 1108 1109 1110 1111 1112 1113 1114 1115\n",
            " 1116 1117 1118 1119 1120 1121 1122 1123 1124 1125 1126 1127 1128 1129\n",
            " 1130 1131 1132 1133 1134 1135 1136 1137 1138 1139 1140 1141 1142 1143\n",
            " 1144 1145 1146 1147 1148 1149 1150 1151 1152 1153 1154 1155 1156 1157\n",
            " 1158 1159 1160 1161 1162 1163 1164 1165 1166 1167 1168 1169 1170 1171] Test: [660 665 668 670 672 673 674 676 677 682 683 684 686 689 696 701 702 707\n",
            " 708 711 713 714 715 716 718 722 726 727 729 730 731 732 733 734 736 738\n",
            " 740 741 742 743 744 745 746 747 748 749 750 751 752 753 754 755 756 757\n",
            " 758 759 760 761 762 763 764 765 766 767 768 769 770 771 772 773 774 775\n",
            " 776 777 778 779 780 781 782 783 784 785 786 787 788 789 790 791 792 793\n",
            " 794 795 796 797 798 799 800 801 802 803 804 805 806 807 808 809 810 811\n",
            " 812 813 814 815 816 817 818 819 820 821 822 823 824 825 826 827 828 829\n",
            " 830 831 832 833 834 835 836 837 838 839 840 841 842 843 844 845 846 847\n",
            " 848 849 850 851 852 853 854 855 856 857 858 859 860 861 862 863 864 865\n",
            " 866 867 868 869 870 871 872 873 874 875 876 877 878 879 880 881 882 883\n",
            " 884 885 886 887 888 889 890 891 892 893 894 895 896 897 898 899 900 901\n",
            " 902 903 904 905 906 907 908 909 910 911 912 913 914 915 916 919 920 921\n",
            " 926 927 928 929 934 942 943 944 945 946 947 948 950 954 956 957 958 959]\n",
            "Train: [  0   1   2   3   4   5   6   7   8   9  10  11  12  13  14  15  16  17\n",
            "  18  19  20  21  22  23  24  25  26  27  28  29  30  31  32  33  34  35\n",
            "  36  37  38  39  40  41  42  43  44  45  46  47  48  49  50  51  52  53\n",
            "  54  55  56  57  58  59  60  61  62  63  64  65  66  67  68  69  70  71\n",
            "  72  73  74  75  76  77  78  79  80  81  82  83  84  85  86  87  88  89\n",
            "  90  91  92  93  94  95  96  97  98  99 100 101 102 103 104 105 106 107\n",
            " 108 109 110 111 112 113 114 115 116 117 118 119 120 121 122 123 124 125\n",
            " 126 127 128 129 130 131 132 133 134 135 136 137 138 139 140 141 142 143\n",
            " 144 145 146 147 148 149 150 151 152 153 154 155 156 157 158 159 160 161\n",
            " 162 163 164 165 166 167 168 169 170 171 172 173 174 175 176 177 178 179\n",
            " 180 181 182 183 184 185 186 187 188 189 190 191 192 193 194 195 196 197\n",
            " 198 199 200 201 202 203 204 205 206 207 208 209 210 211 212 213 214 215\n",
            " 216 217 218 219 220 221 222 223 224 225 226 227 228 229 230 231 232 233\n",
            " 234 235 236 237 238 239 240 241 242 243 244 245 246 247 248 249 250 251\n",
            " 252 253 254 255 256 257 258 259 260 261 262 263 264 265 266 267 268 269\n",
            " 270 271 272 273 274 275 276 277 278 279 280 281 282 283 284 285 286 287\n",
            " 288 289 290 291 292 293 294 295 296 297 298 299 300 301 302 303 304 305\n",
            " 306 307 308 309 310 311 312 313 314 315 316 317 318 319 320 321 322 323\n",
            " 324 325 326 327 328 329 330 331 332 333 334 335 336 337 338 339 340 341\n",
            " 342 343 344 345 346 347 348 349 350 351 352 353 354 355 356 357 358 359\n",
            " 360 361 362 363 364 365 366 367 368 369 370 371 372 373 374 375 376 377\n",
            " 378 379 380 381 382 383 384 385 386 387 388 389 390 391 392 393 394 395\n",
            " 396 397 398 399 400 401 402 403 404 405 406 407 408 409 410 411 412 413\n",
            " 414 415 416 417 418 419 420 421 422 423 424 425 426 427 428 429 430 431\n",
            " 432 433 434 435 436 437 438 439 440 441 442 443 444 445 446 447 448 449\n",
            " 450 451 452 453 454 455 456 457 458 459 460 461 462 463 464 465 466 467\n",
            " 468 469 470 471 472 473 474 475 476 477 478 479 480 481 482 483 484 485\n",
            " 486 487 488 489 490 491 492 493 494 495 496 497 498 499 500 501 502 503\n",
            " 504 505 506 507 508 509 510 511 512 513 514 515 516 517 518 519 520 521\n",
            " 522 523 524 525 526 527 528 529 530 531 532 533 534 535 536 537 538 539\n",
            " 540 541 542 543 544 545 546 547 548 549 550 551 552 553 554 555 556 557\n",
            " 558 559 560 561 562 563 564 565 566 567 568 569 570 571 572 573 574 575\n",
            " 576 577 578 579 580 581 582 583 584 585 586 587 588 589 590 591 592 593\n",
            " 594 595 596 597 598 599 600 601 602 603 604 605 606 607 608 609 610 611\n",
            " 612 613 614 615 616 617 618 619 620 621 622 623 624 625 626 627 628 629\n",
            " 630 631 632 633 634 635 636 637 638 639 640 641 642 643 644 645 646 647\n",
            " 648 649 650 651 652 653 654 655 656 657 658 659 660 661 662 663 664 665\n",
            " 666 667 668 669 670 671 672 673 674 675 676 677 678 679 680 681 682 683\n",
            " 684 685 686 687 688 689 690 691 692 693 694 695 696 697 698 699 700 701\n",
            " 702 703 704 705 706 707 708 709 710 711 712 713 714 715 716 717 718 719\n",
            " 720 721 722 723 724 725 726 727 728 729 730 731 732 733 734 735 736 737\n",
            " 738 739 740 741 742 743 744 745 746 747 748 749 750 751 752 753 754 755\n",
            " 756 757 758 759 760 761 762 763 764 765 766 767 768 769 770 771 772 773\n",
            " 774 775 776 777 778 779 780 781 782 783 784 785 786 787 788 789 790 791\n",
            " 792 793 794 795 796 797 798 799 800 801 802 803 804 805 806 807 808 809\n",
            " 810 811 812 813 814 815 816 817 818 819 820 821 822 823 824 825 826 827\n",
            " 828 829 830 831 832 833 834 835 836 837 838 839 840 841 842 843 844 845\n",
            " 846 847 848 849 850 851 852 853 854 855 856 857 858 859 860 861 862 863\n",
            " 864 865 866 867 868 869 870 871 872 873 874 875 876 877 878 879 880 881\n",
            " 882 883 884 885 886 887 888 889 890 891 892 893 894 895 896 897 898 899\n",
            " 900 901 902 903 904 905 906 907 908 909 910 911 912 913 914 915 916 919\n",
            " 920 921 926 927 928 929 934 942 943 944 945 946 947 948 950 954 956 957\n",
            " 958 959] Test: [ 917  918  922  923  924  925  930  931  932  933  935  936  937  938\n",
            "  939  940  941  949  951  952  953  955  960  961  962  963  964  965\n",
            "  966  967  968  969  970  971  972  973  974  975  976  977  978  979\n",
            "  980  981  982  983  984  985  986  987  988  989  990  991  992  993\n",
            "  994  995  996  997  998  999 1000 1001 1002 1003 1004 1005 1006 1007\n",
            " 1008 1009 1010 1011 1012 1013 1014 1015 1016 1017 1018 1019 1020 1021\n",
            " 1022 1023 1024 1025 1026 1027 1028 1029 1030 1031 1032 1033 1034 1035\n",
            " 1036 1037 1038 1039 1040 1041 1042 1043 1044 1045 1046 1047 1048 1049\n",
            " 1050 1051 1052 1053 1054 1055 1056 1057 1058 1059 1060 1061 1062 1063\n",
            " 1064 1065 1066 1067 1068 1069 1070 1071 1072 1073 1074 1075 1076 1077\n",
            " 1078 1079 1080 1081 1082 1083 1084 1085 1086 1087 1088 1089 1090 1091\n",
            " 1092 1093 1094 1095 1096 1097 1098 1099 1100 1101 1102 1103 1104 1105\n",
            " 1106 1107 1108 1109 1110 1111 1112 1113 1114 1115 1116 1117 1118 1119\n",
            " 1120 1121 1122 1123 1124 1125 1126 1127 1128 1129 1130 1131 1132 1133\n",
            " 1134 1135 1136 1137 1138 1139 1140 1141 1142 1143 1144 1145 1146 1147\n",
            " 1148 1149 1150 1151 1152 1153 1154 1155 1156 1157 1158 1159 1160 1161\n",
            " 1162 1163 1164 1165 1166 1167 1168 1169 1170 1171]\n"
          ],
          "name": "stdout"
        }
      ]
    },
    {
      "cell_type": "code",
      "metadata": {
        "id": "UA6dzRKoS99y",
        "colab_type": "code",
        "outputId": "b04fe6dc-c4a4-4670-9af4-cc2ee9b43d62",
        "colab": {
          "base_uri": "https://localhost:8080/",
          "height": 122
        }
      },
      "source": [
        "# We will undersample during cross validating\n",
        "undersample_X = comb.drop('m13', axis=1)\n",
        "undersample_y = comb['m13']\n",
        "\n",
        "for train_index, test_index in sss.split(undersample_X, undersample_y):\n",
        "    print(\"Train:\", train_index, \"Test:\", test_index)\n",
        "    undersample_Xtrain, undersample_Xtest = undersample_X.iloc[train_index], undersample_X.iloc[test_index]\n",
        "    undersample_ytrain, undersample_ytest = undersample_y.iloc[train_index], undersample_y.iloc[test_index]\n",
        "    \n",
        "undersample_Xtrain = undersample_Xtrain.values\n",
        "undersample_Xtest = undersample_Xtest.values\n",
        "undersample_ytrain = undersample_ytrain.values\n",
        "undersample_ytest = undersample_ytest.values \n",
        "\n",
        "undersample_accuracy = []\n",
        "undersample_precision = []\n",
        "undersample_recall = []\n",
        "undersample_f1 = []\n",
        "undersample_auc = []"
      ],
      "execution_count": 0,
      "outputs": [
        {
          "output_type": "stream",
          "text": [
            "Train: [ 21164  21253  21396 ... 116055 116056 116057] Test: [    0     1     2 ... 23221 23222 23223]\n",
            "Train: [     0      1      2 ... 116055 116056 116057] Test: [21164 21253 21396 ... 46424 46425 46426]\n",
            "Train: [     0      1      2 ... 116055 116056 116057] Test: [46159 46413 46427 ... 70962 70976 71003]\n",
            "Train: [     0      1      2 ... 116055 116056 116057] Test: [69626 69627 69628 ... 93502 93704 93963]\n",
            "Train: [    0     1     2 ... 93502 93704 93963] Test: [ 92842  92843  92844 ... 116055 116056 116057]\n"
          ],
          "name": "stdout"
        }
      ]
    },
    {
      "cell_type": "code",
      "metadata": {
        "id": "kNqIWkgPTYU_",
        "colab_type": "code",
        "outputId": "d5bdd0c4-e93b-4581-945b-fe2fa071b707",
        "colab": {
          "base_uri": "https://localhost:8080/",
          "height": 268
        }
      },
      "source": [
        "# Implementing NearMiss Technique \n",
        "# Distribution of NearMiss (Just to see how it distributes the labels we won't use these variables)\n",
        "X_nearmiss, y_nearmiss = NearMiss().fit_sample(undersample_X.values, undersample_y.values)\n",
        "print('NearMiss Label Distribution: {}'.format(Counter(y_nearmiss)))\n",
        "# Cross Validating the right way\n",
        "\n",
        "for train, test in sss.split(undersample_Xtrain, undersample_ytrain):\n",
        "    undersample_pipeline = imbalanced_make_pipeline(NearMiss(sampling_strategy='majority'), log_reg) # SMOTE happens during Cross Validation not before..\n",
        "    undersample_model = undersample_pipeline.fit(undersample_Xtrain[train], undersample_ytrain[train])\n",
        "    undersample_prediction = undersample_model.predict(undersample_Xtrain[test])\n",
        "    \n",
        "    undersample_accuracy.append(undersample_pipeline.score(original_Xtrain[test], original_ytrain[test]))\n",
        "    undersample_precision.append(precision_score(original_ytrain[test], undersample_prediction))\n",
        "    undersample_recall.append(recall_score(original_ytrain[test], undersample_prediction))\n",
        "    undersample_f1.append(f1_score(original_ytrain[test], undersample_prediction))\n",
        "    undersample_auc.append(roc_auc_score(original_ytrain[test], undersample_prediction))"
      ],
      "execution_count": 0,
      "outputs": [
        {
          "output_type": "stream",
          "text": [
            "NearMiss Label Distribution: Counter({0: 636, 1: 636})\n"
          ],
          "name": "stdout"
        },
        {
          "output_type": "error",
          "ename": "IndexError",
          "evalue": "ignored",
          "traceback": [
            "\u001b[0;31m---------------------------------------------------------------------------\u001b[0m",
            "\u001b[0;31mIndexError\u001b[0m                                Traceback (most recent call last)",
            "\u001b[0;32m<ipython-input-77-5f2397fcad41>\u001b[0m in \u001b[0;36m<module>\u001b[0;34m()\u001b[0m\n\u001b[1;32m      8\u001b[0m     \u001b[0mundersample_prediction\u001b[0m \u001b[0;34m=\u001b[0m \u001b[0mundersample_model\u001b[0m\u001b[0;34m.\u001b[0m\u001b[0mpredict\u001b[0m\u001b[0;34m(\u001b[0m\u001b[0mundersample_Xtrain\u001b[0m\u001b[0;34m[\u001b[0m\u001b[0mtest\u001b[0m\u001b[0;34m]\u001b[0m\u001b[0;34m)\u001b[0m\u001b[0;34m\u001b[0m\u001b[0;34m\u001b[0m\u001b[0m\n\u001b[1;32m      9\u001b[0m \u001b[0;34m\u001b[0m\u001b[0m\n\u001b[0;32m---> 10\u001b[0;31m     \u001b[0mundersample_accuracy\u001b[0m\u001b[0;34m.\u001b[0m\u001b[0mappend\u001b[0m\u001b[0;34m(\u001b[0m\u001b[0mundersample_pipeline\u001b[0m\u001b[0;34m.\u001b[0m\u001b[0mscore\u001b[0m\u001b[0;34m(\u001b[0m\u001b[0moriginal_Xtrain\u001b[0m\u001b[0;34m[\u001b[0m\u001b[0mtest\u001b[0m\u001b[0;34m]\u001b[0m\u001b[0;34m,\u001b[0m \u001b[0moriginal_ytrain\u001b[0m\u001b[0;34m[\u001b[0m\u001b[0mtest\u001b[0m\u001b[0;34m]\u001b[0m\u001b[0;34m)\u001b[0m\u001b[0;34m)\u001b[0m\u001b[0;34m\u001b[0m\u001b[0;34m\u001b[0m\u001b[0m\n\u001b[0m\u001b[1;32m     11\u001b[0m     \u001b[0mundersample_precision\u001b[0m\u001b[0;34m.\u001b[0m\u001b[0mappend\u001b[0m\u001b[0;34m(\u001b[0m\u001b[0mprecision_score\u001b[0m\u001b[0;34m(\u001b[0m\u001b[0moriginal_ytrain\u001b[0m\u001b[0;34m[\u001b[0m\u001b[0mtest\u001b[0m\u001b[0;34m]\u001b[0m\u001b[0;34m,\u001b[0m \u001b[0mundersample_prediction\u001b[0m\u001b[0;34m)\u001b[0m\u001b[0;34m)\u001b[0m\u001b[0;34m\u001b[0m\u001b[0;34m\u001b[0m\u001b[0m\n\u001b[1;32m     12\u001b[0m     \u001b[0mundersample_recall\u001b[0m\u001b[0;34m.\u001b[0m\u001b[0mappend\u001b[0m\u001b[0;34m(\u001b[0m\u001b[0mrecall_score\u001b[0m\u001b[0;34m(\u001b[0m\u001b[0moriginal_ytrain\u001b[0m\u001b[0;34m[\u001b[0m\u001b[0mtest\u001b[0m\u001b[0;34m]\u001b[0m\u001b[0;34m,\u001b[0m \u001b[0mundersample_prediction\u001b[0m\u001b[0;34m)\u001b[0m\u001b[0;34m)\u001b[0m\u001b[0;34m\u001b[0m\u001b[0;34m\u001b[0m\u001b[0m\n",
            "\u001b[0;31mIndexError\u001b[0m: index 938 is out of bounds for axis 0 with size 938"
          ]
        }
      ]
    },
    {
      "cell_type": "code",
      "metadata": {
        "id": "JvhfLu4sUKQs",
        "colab_type": "code",
        "colab": {}
      },
      "source": [
        ""
      ],
      "execution_count": 0,
      "outputs": []
    }
  ]
}